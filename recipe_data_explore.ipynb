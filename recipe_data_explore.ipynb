{
 "cells": [
  {
   "cell_type": "code",
   "execution_count": 1,
   "metadata": {
    "collapsed": true
   },
   "outputs": [],
   "source": [
    "import json\n",
    "import requests\n",
    "import pickle\n",
    "from bs4 import BeautifulSoup\n",
    "from yelp.client import Client\n",
    "from yelp.oauth1_authenticator import Oauth1Authenticator\n",
    "from collections import defaultdict\n",
    "from itertools import islice"
   ]
  },
  {
   "cell_type": "markdown",
   "metadata": {},
   "source": [
    "### Scraping Yelp Menus"
   ]
  },
  {
   "cell_type": "code",
   "execution_count": null,
   "metadata": {
    "collapsed": true
   },
   "outputs": [],
   "source": [
    "def scrape_menu(business_id):\n",
    "    link = 'https://www.yelp.com/menu/{0}'.format(business_id) ## need some error checking here\n",
    "    page = requests.get(link)\n",
    "    soup = BeautifulSoup(page.content)\n",
    "    return soup\n",
    "\n",
    "def get_menu_items(soup):\n",
    "    menu = {}\n",
    "    for ms in soup.select('.menu-item-details'):\n",
    "        item = ms.h4.text.strip() ## just menu items --> section titles are in .menu-section-header\n",
    "        #print item\n",
    "        if ms.p:\n",
    "            desc= ms.p.text.strip()\n",
    "            #print desc\n",
    "            menu[item] = desc\n",
    "        else: menu[item] = \"\"    \n",
    "    return menu  "
   ]
  },
  {
   "cell_type": "markdown",
   "metadata": {},
   "source": [
    "## Code to use:"
   ]
  },
  {
   "cell_type": "code",
   "execution_count": 3,
   "metadata": {
    "collapsed": false
   },
   "outputs": [],
   "source": [
    "## Read credentials\n",
    "with open('credentials/yelp_config.json') as cred:\n",
    "    creds = json.load(cred)\n",
    "    auth = Oauth1Authenticator(**creds)\n",
    "    client = Client(auth)"
   ]
  },
  {
   "cell_type": "code",
   "execution_count": 12,
   "metadata": {
    "collapsed": true
   },
   "outputs": [],
   "source": [
    "## Make initial call to get # responses\n",
    "params = {\n",
    "    'term' : 'restaurants'\n",
    "    }\n",
    "bus_response = client.search('San Francisco', **params)\n",
    "pages = (bus_response.total/20) + 1 ## businesses returns 20 at a time so will need to repeat calls with offset\n"
   ]
  },
  {
   "cell_type": "code",
   "execution_count": 21,
   "metadata": {
    "collapsed": false
   },
   "outputs": [
    {
     "ename": "InvalidParameter",
     "evalue": "",
     "output_type": "error",
     "traceback": [
      "\u001b[0;31m---------------------------------------------------------------------------\u001b[0m",
      "\u001b[0;31mInvalidParameter\u001b[0m                          Traceback (most recent call last)",
      "\u001b[0;32m<ipython-input-21-3e61d6fb8193>\u001b[0m in \u001b[0;36m<module>\u001b[0;34m()\u001b[0m\n\u001b[1;32m      3\u001b[0m     \u001b[0;34m'offset'\u001b[0m \u001b[0;34m:\u001b[0m \u001b[0;36m51\u001b[0m\u001b[0;34m*\u001b[0m\u001b[0;36m20\u001b[0m\u001b[0;34m\u001b[0m\u001b[0m\n\u001b[1;32m      4\u001b[0m     }\n\u001b[0;32m----> 5\u001b[0;31m \u001b[0mresponse\u001b[0m \u001b[0;34m=\u001b[0m \u001b[0mclient\u001b[0m\u001b[0;34m.\u001b[0m\u001b[0msearch\u001b[0m\u001b[0;34m(\u001b[0m\u001b[0;34m'San Francisco'\u001b[0m\u001b[0;34m,\u001b[0m \u001b[0;34m**\u001b[0m\u001b[0mparams\u001b[0m\u001b[0;34m)\u001b[0m\u001b[0;34m\u001b[0m\u001b[0m\n\u001b[0m\u001b[1;32m      6\u001b[0m \u001b[0;34m\u001b[0m\u001b[0m\n",
      "\u001b[0;32m/Users/janehuston/anaconda/lib/python2.7/site-packages/yelp/endpoint/search.pyc\u001b[0m in \u001b[0;36msearch\u001b[0;34m(self, location, current_lat, current_long, **url_params)\u001b[0m\n\u001b[1;32m     42\u001b[0m \u001b[0;34m\u001b[0m\u001b[0m\n\u001b[1;32m     43\u001b[0m         return SearchResponse(\n\u001b[0;32m---> 44\u001b[0;31m             \u001b[0mself\u001b[0m\u001b[0;34m.\u001b[0m\u001b[0mclient\u001b[0m\u001b[0;34m.\u001b[0m\u001b[0m_make_request\u001b[0m\u001b[0;34m(\u001b[0m\u001b[0mSEARCH_PATH\u001b[0m\u001b[0;34m,\u001b[0m \u001b[0murl_params\u001b[0m\u001b[0;34m)\u001b[0m\u001b[0;34m\u001b[0m\u001b[0m\n\u001b[0m\u001b[1;32m     45\u001b[0m         )\n\u001b[1;32m     46\u001b[0m \u001b[0;34m\u001b[0m\u001b[0m\n",
      "\u001b[0;32m/Users/janehuston/anaconda/lib/python2.7/site-packages/yelp/client.pyc\u001b[0m in \u001b[0;36m_make_request\u001b[0;34m(self, path, url_params)\u001b[0m\n\u001b[1;32m     46\u001b[0m         )\n\u001b[1;32m     47\u001b[0m         \u001b[0msigned_url\u001b[0m \u001b[0;34m=\u001b[0m \u001b[0mself\u001b[0m\u001b[0;34m.\u001b[0m\u001b[0mauthenticator\u001b[0m\u001b[0;34m.\u001b[0m\u001b[0msign_request\u001b[0m\u001b[0;34m(\u001b[0m\u001b[0murl\u001b[0m\u001b[0;34m,\u001b[0m \u001b[0murl_params\u001b[0m\u001b[0;34m)\u001b[0m\u001b[0;34m\u001b[0m\u001b[0m\n\u001b[0;32m---> 48\u001b[0;31m         \u001b[0;32mreturn\u001b[0m \u001b[0mself\u001b[0m\u001b[0;34m.\u001b[0m\u001b[0m_make_connection\u001b[0m\u001b[0;34m(\u001b[0m\u001b[0msigned_url\u001b[0m\u001b[0;34m)\u001b[0m\u001b[0;34m\u001b[0m\u001b[0m\n\u001b[0m\u001b[1;32m     49\u001b[0m \u001b[0;34m\u001b[0m\u001b[0m\n\u001b[1;32m     50\u001b[0m     \u001b[0;32mdef\u001b[0m \u001b[0m_make_connection\u001b[0m\u001b[0;34m(\u001b[0m\u001b[0mself\u001b[0m\u001b[0;34m,\u001b[0m \u001b[0msigned_url\u001b[0m\u001b[0;34m)\u001b[0m\u001b[0;34m:\u001b[0m\u001b[0;34m\u001b[0m\u001b[0m\n",
      "\u001b[0;32m/Users/janehuston/anaconda/lib/python2.7/site-packages/yelp/client.pyc\u001b[0m in \u001b[0;36m_make_connection\u001b[0;34m(self, signed_url)\u001b[0m\n\u001b[1;32m     52\u001b[0m             \u001b[0mconn\u001b[0m \u001b[0;34m=\u001b[0m \u001b[0msix\u001b[0m\u001b[0;34m.\u001b[0m\u001b[0mmoves\u001b[0m\u001b[0;34m.\u001b[0m\u001b[0murllib\u001b[0m\u001b[0;34m.\u001b[0m\u001b[0mrequest\u001b[0m\u001b[0;34m.\u001b[0m\u001b[0murlopen\u001b[0m\u001b[0;34m(\u001b[0m\u001b[0msigned_url\u001b[0m\u001b[0;34m,\u001b[0m \u001b[0mNone\u001b[0m\u001b[0;34m)\u001b[0m\u001b[0;34m\u001b[0m\u001b[0m\n\u001b[1;32m     53\u001b[0m         \u001b[0;32mexcept\u001b[0m \u001b[0msix\u001b[0m\u001b[0;34m.\u001b[0m\u001b[0mmoves\u001b[0m\u001b[0;34m.\u001b[0m\u001b[0murllib\u001b[0m\u001b[0;34m.\u001b[0m\u001b[0merror\u001b[0m\u001b[0;34m.\u001b[0m\u001b[0mHTTPError\u001b[0m \u001b[0;32mas\u001b[0m \u001b[0merror\u001b[0m\u001b[0;34m:\u001b[0m\u001b[0;34m\u001b[0m\u001b[0m\n\u001b[0;32m---> 54\u001b[0;31m             \u001b[0mself\u001b[0m\u001b[0;34m.\u001b[0m\u001b[0m_error_handler\u001b[0m\u001b[0;34m.\u001b[0m\u001b[0mraise_error\u001b[0m\u001b[0;34m(\u001b[0m\u001b[0merror\u001b[0m\u001b[0;34m)\u001b[0m\u001b[0;34m\u001b[0m\u001b[0m\n\u001b[0m\u001b[1;32m     55\u001b[0m         \u001b[0;32melse\u001b[0m\u001b[0;34m:\u001b[0m\u001b[0;34m\u001b[0m\u001b[0m\n\u001b[1;32m     56\u001b[0m             \u001b[0;32mtry\u001b[0m\u001b[0;34m:\u001b[0m\u001b[0;34m\u001b[0m\u001b[0m\n",
      "\u001b[0;32m/Users/janehuston/anaconda/lib/python2.7/site-packages/yelp/errors.pyc\u001b[0m in \u001b[0;36mraise_error\u001b[0;34m(self, error)\u001b[0m\n\u001b[1;32m     97\u001b[0m                 \u001b[0merror\u001b[0m\u001b[0;34m.\u001b[0m\u001b[0mcode\u001b[0m\u001b[0;34m,\u001b[0m\u001b[0;34m\u001b[0m\u001b[0m\n\u001b[1;32m     98\u001b[0m                 \u001b[0merror\u001b[0m\u001b[0;34m.\u001b[0m\u001b[0mmsg\u001b[0m\u001b[0;34m,\u001b[0m\u001b[0;34m\u001b[0m\u001b[0m\n\u001b[0;32m---> 99\u001b[0;31m                 \u001b[0mresponse\u001b[0m\u001b[0;34m\u001b[0m\u001b[0m\n\u001b[0m\u001b[1;32m    100\u001b[0m             )\n\u001b[1;32m    101\u001b[0m         \u001b[0;32mexcept\u001b[0m \u001b[0mKeyError\u001b[0m\u001b[0;34m:\u001b[0m\u001b[0;34m\u001b[0m\u001b[0m\n",
      "\u001b[0;31mInvalidParameter\u001b[0m: "
     ]
    }
   ],
   "source": [
    "params = {\n",
    "    'term' : 'restaurants',\n",
    "    'offset' : 51*20   \n",
    "    }\n",
    "response = client.search('San Francisco', **params)\n",
    "    "
   ]
  },
  {
   "cell_type": "code",
   "execution_count": 19,
   "metadata": {
    "collapsed": false
   },
   "outputs": [
    {
     "name": "stdout",
     "output_type": "stream",
     "text": [
      "frog-hollow-farm-market-and-cafe-san-francisco Frog Hollow Farm Market & Cafe\n",
      "little-gem-san-francisco Little Gem\n",
      "new-alternatives-cafe-san-francisco-2 New Alternatives Cafe\n",
      "higher-grounds-coffee-house-san-francisco Higher Grounds Coffee House\n",
      "joo-mak-san-francisco Joo Mak\n",
      "fumi-japanese-curry-and-ramen-san-francisco-2 Fumi Japanese Curry & Ramen\n",
      "ideale-san-francisco Ideale\n",
      "calabria-bros-san-francisco-2 Calabria Bros\n",
      "pissed-off-petes-san-francisco Pissed Off Pete's\n",
      "chai-bar-by-david-rio-san-francisco Chai Bar By David Rio\n",
      "perilla-san-francisco-2 Perilla\n",
      "proposition-chicken-san-francisco Proposition Chicken\n",
      "pho-huynh-hiep-2-kevins-noodle-house-san-francisco Pho Huynh Hiep 2 - Kevin's Noodle House\n",
      "orexi-san-francisco Orexi\n",
      "vikings-giant-submarines-san-francisco-2 Viking's Giant Submarines\n",
      "cafe-la-flore-san-francisco-3 Cafe La Flore\n",
      "volare-pizza-and-restaurant-san-francisco Volare Pizza & Restaurant\n",
      "little-sheep-mongolian-hot-pot-san-francisco-4 Little Sheep Mongolian Hot Pot\n",
      "eastern-bakery-san-francisco Eastern Bakery\n",
      "perilla-san-francisco-4 Perilla\n"
     ]
    }
   ],
   "source": [
    "for bus in response.businesses:\n",
    "    print bus.id, bus.name"
   ]
  },
  {
   "cell_type": "code",
   "execution_count": null,
   "metadata": {
    "collapsed": true
   },
   "outputs": [],
   "source": [
    "\n",
    "## For every page of responses: get business ids\n",
    "for page in xrange(pages):\n",
    "    params = {\n",
    "    'term' : 'restaurants',\n",
    "    'offset' : page*20   \n",
    "    }\n",
    "    response = client.search('San Francisco', **params)\n",
    "    \n",
    "    for i in response.businesses:\n",
    "        if response.businesses[i].menu_date_updated: ## check menu available on Yelp\n",
    "            ## for every business id: go to menu page and scrape dish names and descriptions\n",
    "            soup = scrape_menu(i)\n",
    "            menu = get_menu_items(soup)\n",
    "\n",
    "        ##insert into db"
   ]
  },
  {
   "cell_type": "code",
   "execution_count": null,
   "metadata": {
    "collapsed": true
   },
   "outputs": [],
   "source": []
  },
  {
   "cell_type": "markdown",
   "metadata": {},
   "source": [
    "## Experimenting:"
   ]
  },
  {
   "cell_type": "code",
   "execution_count": 41,
   "metadata": {
    "collapsed": true
   },
   "outputs": [],
   "source": [
    "# read API keys\n",
    "with open('config_secret.json') as cred:\n",
    "    creds = json.load(cred)\n",
    "    auth = Oauth1Authenticator(**creds)\n",
    "    client = Client(auth)\n",
    "\n",
    "params = {\n",
    "    'term' : 'restaurants'#,\n",
    "    #'category_filter' :'gastropubs'\n",
    "    }\n",
    "\n",
    "response = client.search('San Francisco', **params)"
   ]
  },
  {
   "cell_type": "code",
   "execution_count": 42,
   "metadata": {
    "collapsed": false
   },
   "outputs": [
    {
     "data": {
      "text/plain": [
       "8190"
      ]
     },
     "execution_count": 42,
     "metadata": {},
     "output_type": "execute_result"
    }
   ],
   "source": [
    "response.total ## businesses returns 20 at a time so will need to repeat calls with offset"
   ]
  },
  {
   "cell_type": "code",
   "execution_count": 43,
   "metadata": {
    "collapsed": false
   },
   "outputs": [
    {
     "data": {
      "text/plain": [
       "409.5"
      ]
     },
     "execution_count": 43,
     "metadata": {},
     "output_type": "execute_result"
    }
   ],
   "source": [
    "response.total*1./20"
   ]
  },
  {
   "cell_type": "code",
   "execution_count": 44,
   "metadata": {
    "collapsed": false
   },
   "outputs": [],
   "source": [
    "bus_ids = []\n",
    "num_hits = len(response.businesses)\n",
    "for i in xrange(num_hits):\n",
    "    if response.businesses[i].menu_date_updated: ## check menu available on Yelp\n",
    "        bus_ids.append(response.businesses[i].id)"
   ]
  },
  {
   "cell_type": "code",
   "execution_count": 45,
   "metadata": {
    "collapsed": false
   },
   "outputs": [
    {
     "data": {
      "text/plain": [
       "[u'hogwash-san-francisco',\n",
       " u'fog-harbor-fish-house-san-francisco-2',\n",
       " u'marlowe-san-francisco-2',\n",
       " u'gary-danko-san-francisco',\n",
       " u'so-san-francisco-4',\n",
       " u'chez-maman-san-francisco-9',\n",
       " u'hrd-san-francisco-2',\n",
       " u'the-italian-homemade-company-san-francisco-4',\n",
       " u'causwells-san-francisco-5',\n",
       " u'lord-george-san-francisco',\n",
       " u'stones-throw-san-francisco-2']"
      ]
     },
     "execution_count": 45,
     "metadata": {},
     "output_type": "execute_result"
    }
   ],
   "source": [
    "bus_ids"
   ]
  },
  {
   "cell_type": "code",
   "execution_count": 29,
   "metadata": {
    "collapsed": false
   },
   "outputs": [
    {
     "data": {
      "text/plain": [
       "13"
      ]
     },
     "execution_count": 29,
     "metadata": {},
     "output_type": "execute_result"
    }
   ],
   "source": [
    "len(bus_ids)"
   ]
  },
  {
   "cell_type": "code",
   "execution_count": 46,
   "metadata": {
    "collapsed": true
   },
   "outputs": [],
   "source": [
    "test_link = 'https://www.yelp.com/menu/garaje-san-francisco'"
   ]
  },
  {
   "cell_type": "code",
   "execution_count": 47,
   "metadata": {
    "collapsed": false
   },
   "outputs": [],
   "source": [
    "page = requests.get(test_link)\n",
    "soup = BeautifulSoup(page.content)"
   ]
  },
  {
   "cell_type": "code",
   "execution_count": 54,
   "metadata": {
    "collapsed": false
   },
   "outputs": [
    {
     "name": "stdout",
     "output_type": "stream",
     "text": [
      "{u'Jose Wong': u'endorsed by travis. hacked marinated chicken thighs, lettuce, cabbage, peppers, cilantro, broken corn chips, fiery hoisin chile pressing, peanuts, sesame seeds', u'Bottled Sweet Tea': '', u'Mordaditas': u'gourmet? no way! great w/ beer? crispy little rolled beef taquitos, fundido sauce, pico, gauc', u'Mex Coke or Mex Pepsi': '', u'Grilled Fish and Guac': u'sustainable tilapia , cabbage, cilantro lime mayo, la palma corn torts', u'Jerritos': '', u\"Surfer Leo's Fish and Chip\": u'crispy battered sustainable tilapia, fries, avo, jack, chipotle mayo', u\"Pete's No Meat*\": '', u'Wild Ahi and Aho Salpicon': u'hacked seared line caught ahi, cilantro lime vin, chipotle aioli, our pot chips', u'Cali Steak': u'skirt steak asada, jack, fries, avo, pico', u'Diet Soda': '', u'Wild Tuna Tostadita': u'seared line caught ahi, cabbage, guac, pico, cilantro lime vin, crispy onions, corn tort, chipotle aioli', u'Carnitas': '', u'Skirt Steak': '', u'Garaje Potato Chips': u'hand cut kennebecs and sea salt', u'Red Bull': '', u'Drive In Cheeseburger': u'1/3 lb certified angus, double am cheese, griddled onions, pickles, lettuce, tomato, 1000 island, acme bun', u'Mojo Chicken': '', u'Bottled Or Sparkling H2O': '', u'Como Se Llama': u'crisp corn taco shell wrapped with a cheesy flour tort spread with refritos (vegetarians beware: our refritos are super delicious because they are made with lard) and filled with chicken or steak, lettuce, pico and guac - pheww!', u'Street Style (2)': u'la palma corn torts, cilantro, cebollas y salsa. skirt steak asada, mojo chicken, carnitas', u'Beer Battered Tilapia': u'cabbage, chipotle mayo, flour tort', u'Calamares Fritos': u'flashed fried, sea salt, chipotle aioli', u'Escabeche': u'spicy pickled seasonal veg'}\n"
     ]
    }
   ],
   "source": [
    "menu = {}\n",
    "for ms in soup.select('.menu-item-details'):\n",
    "    item = ms.h4.text.strip() ## just menu items --> section titles are in .menu-section-header\n",
    "    #print item\n",
    "    if ms.p:\n",
    "        desc= ms.p.text.strip()\n",
    "        #print desc\n",
    "        menu[item] = desc\n",
    "    else: menu[item] = \"\"    \n",
    "print menu        "
   ]
  },
  {
   "cell_type": "code",
   "execution_count": 130,
   "metadata": {
    "collapsed": false
   },
   "outputs": [
    {
     "name": "stdout",
     "output_type": "stream",
     "text": [
      "Goes w/ Beer\n",
      "Salads\n",
      "Drive In Cheeseburger\n",
      "Zapatos\n",
      "Tacos\n",
      "Not Beer Or Wine\n"
     ]
    }
   ],
   "source": [
    "for section in soup.select('.menu-section-header'):\n",
    "    print section.h2.text.strip()  "
   ]
  },
  {
   "cell_type": "code",
   "execution_count": 111,
   "metadata": {
    "collapsed": false
   },
   "outputs": [
    {
     "name": "stdout",
     "output_type": "stream",
     "text": [
      "Jose Wong\n",
      "Drive In Cheeseburger\n",
      "Pete's No Meat*\n"
     ]
    }
   ],
   "source": [
    "for section in soup.select('.menu-section'):\n",
    "    if section.div['class'] == ['media-block', 'menu-item']:\n",
    "        print section.div.h4.text.strip()\n",
    "        \n",
    "## how to associate each menu item with section header??     \n",
    "## can also get item descriptions from <p class='menu-item-details-description'>"
   ]
  },
  {
   "cell_type": "code",
   "execution_count": 19,
   "metadata": {
    "collapsed": true
   },
   "outputs": [],
   "source": [
    "def scrape_menu(business_id):\n",
    "    link = 'https://www.yelp.com/menu/{0}'.format(business_id) ## need some error checking here\n",
    "    page = requests.get(link)\n",
    "    soup = BeautifulSoup(page.content)\n",
    "    return soup\n",
    "\n",
    "def get_menu_items(soup):\n",
    "    menu = []\n",
    "    for ms in soup.select('.menu-item-details'):\n",
    "        menu.append(ms.h4.text.strip()) ## just menu items --> section titles are in .menu-section-header\n",
    "        ## do I also want item descriptions?\n",
    "    return menu    "
   ]
  },
  {
   "cell_type": "code",
   "execution_count": 20,
   "metadata": {
    "collapsed": true
   },
   "outputs": [],
   "source": [
    "def collect_all_menus(bus_ids):\n",
    "    menus = {}\n",
    "    for bus_id in bus_ids:\n",
    "        soup = scrape_menu(bus_id)\n",
    "        menu = get_menu_items(soup)\n",
    "        menus[bus_id] = menu\n",
    "    return menus    \n",
    "        "
   ]
  },
  {
   "cell_type": "code",
   "execution_count": 36,
   "metadata": {
    "collapsed": false
   },
   "outputs": [],
   "source": [
    "test_soup = scrape_menu('hogwash-san-francisco')\n",
    "test_menu = get_menu_items(test_soup)"
   ]
  },
  {
   "cell_type": "code",
   "execution_count": 21,
   "metadata": {
    "collapsed": false
   },
   "outputs": [],
   "source": [
    "menu_dict = collect_all_menus(bus_ids[:10])\n"
   ]
  },
  {
   "cell_type": "code",
   "execution_count": 22,
   "metadata": {
    "collapsed": true
   },
   "outputs": [],
   "source": [
    "def take(n, iterable):\n",
    "    \"Return first n items of the iterable as a list\"\n",
    "    return list(islice(iterable, n))"
   ]
  },
  {
   "cell_type": "code",
   "execution_count": 23,
   "metadata": {
    "collapsed": false
   },
   "outputs": [
    {
     "name": "stdout",
     "output_type": "stream",
     "text": [
      "[(u'the-italian-homemade-company-san-francisco-4', [u'Piadina', u'Fresh Pasta', u'Salads', u'Vanini Chocolate', u'Gnocchi Roll']), (u'the-fine-mousse-san-francisco', [u'Dibon Brut Reserva, Cava, Penedes, Spain', u'Cortenova, Prosecco Italy', u'Gruet, Blanc de Blanc, New Mexico', u'Graham Beck Brut Rose, South Africa', u'Graham Beck Brut Zero 2009, South Africa', u'Mumm, Devaux Ranch 2010, Napa, California', u'Moutard, Grand Cuvee, Champagne, France', u'Duck Fat or Rice Bran Oil', u'Hibiscus & Pink Pepper', u'Garlic & Rosemary', u'Chipotle', u'Parmesan & Truffle', u'Mustard & Apple', u'Habanero & Dill', u'Yuzu Pepper', u'Grapefruit & Curry', u'Earl Grey & Peaches', u'Santa Julia Brut, Blanc de Blanc, Argentina', u\"Roederer Estate L'Ermitage 2007, Andersen Valley California\", u'Schramsberg, Blanc de Blanc, Napa California', u'Schramsberg, Blanc de Noir, Napa California', u'Les Rocailles Brut, Savoie, France', u'Caveau du Mont July, bubbly red Gamay, France', u'AR Lenoble, Brut Intense, Champagne, France', u'Gosset, Brut Excellence, Champagne, France', u'Roland-Champion, Blanc de Blanc Grand Cru Champagne, France', u'Moutard, Cuvee des 6 Cepages, 2007, Champagne, France', u'Pol Roger 2004, Champagne, France', u'Lini 910, Lambrusco, Italy', u'Quartz Reef Brut, New Zealand', u'Argyle Brut Rose 2011, Oregon', u'Colmant Brut, Franschook, South Africa', u'Gramona III Lustros Gran Reserva 2007, Spain', u'House made Sourdough & European Butter', u'Cheese Plate (Choose any three)', u'Brussels Sprouts', u'Pear and Celery Root Soup', u'Kale Salad', u'Bitterballen', u'Sea Salted Chocolate and Caramel Tart', u'Mission Estate Chardonnay, New Zealand', u'Oyster Bay Pinot Noir, New Zealand', u'Ridge, Ponzo Vineyard, Zinfandel, Sonoma', u'Ayinger, Hefeweizen, Germany (500ml)', u'Ommegang, Hennepin Saison, New York', u\"d'Achouffe, Houblon, Belgian Triple/IPA, Belgium\", u'Orval, Trappist Ale, Belgium', u'Big Eye, Ballast Point, IPA, California']), (u'chez-maman-san-francisco-9', [u'Soup Of The Day', u'Baked Camembert', u'Escargot De Bourgogne', u'Assiette De Merguez', u'Beef Tartare & Dijon Mustard', u'Warm Goat Cheese', u'Caesar', u'Endives', u'Nicoise', u'Organic Greens', u'Frisee', u'Mix Salad', u'Chicken', u'Tomato', u'Smoked Salmon', u'Tuna', u'Merguez', u'Vegetarian', u'Croque Monsieur', u'Croque Madame', u'Croque Veggie', u'Basic Burger', u'Chicken Burger', u'Fish Burger', u'Vegetarian Burger', u'Complete', u'Chicken', u'Savoyarde', u'Vegetarian', u'Salmon', u'Provencale', u'Thai', u'Mariniere', u'Poulette', u'Roasted Mahi-mahi', u'Grilled Salmon', u'Flat Irons Steak', u'Veal', u'Pork Chop & Brussels Sprouts', u'Hachis Parmentier', u'Fettucini', u'Fettucini Carbonara', u'Sauteed boudin Noir', u'Grilled andouillette', u'Lamb And Vegetables Brochettes', u'Brie', u'Roquefort', u'Ratatouille', u'Garlic Mashed Potatoes', u'Seasonal Vegetables', u'French Fries']), (u'hogwash-san-francisco', [u\"Burnin' Brock\", u'Abe Froman', u'All Day', u'Sheepish', u'Hogless', u'Peaches & Arugula', u'Habanero Ceasar', u'Kale Salad', u'Wurstfest', u'Curry Fries', u'Pickled Pickle Plate', u'Fried Housemade Pickles', u'Hogwash Fries', u'Herb Roasted Beets', u'Warmed Olives', u\"Cock N' Bull Ginger Beer\", u'Mexican Coke', u'Diet Coke', u'S. Pellegrino Sparkling Water', u'Almanac Citra Sour, ABV 7.0%, IBU 3, SF, CA', u'Almanac Meyer Lemon Gose, ABV 5.0%, IBU 10, SF, CA', u'Altamont Shot Away IPA, ABV 6.8%, Livermore, CA', u'Anchor Steam, ABV 4.9%, IBU 35, SF, CA', u'Ballast Point Sculpin IPA, ABV 7.0%, IBU 70, San Diego, CA', u'Clown Shoes Space Cake DBL IPA, ABV 9.0%, IBU 90, Ipswich, MA', u'Crispin Cider, ABV 5.5%, Colfax, CA', u\"Dale's Pale Ale, ABV 6.5%, IBU 65, Lyons, CO\", u'Deschutes Fresh Squeezed IPA, ABV 6.4%, IBU 60, Bend, OR', u'Duvel Strong Golden, ABV 6.8%, IBU 30, Belgium', u'Einstk Witbier, ABV 5.2%, Iceland', u'Epidemic Ales Bourbon Vanilla Stout, ABV 10.3%, IBU 41, Concord, CA', u'Fieldwork Brewing Shoreline IPA, ABV 6.6%, Berkeley, CA', u'Firestone Pivo Hoppy Pilsner, ABV 5.3%, IBU 40, Paso Robles, CA', u'Fort Point Manzanita Smoked Altbier, ABV 6.3%, IBU 16, SF, CA', u'Gaffel Kolsch, ABV 4.8%, IBU 24, Germany', u'Gulden Draak 9000 Belgian Quad, Abv 10.5%, IBU 25, Belgium', u'Ghost Town Nose Goblin Double IPA, ABV 8.0%, IBU 115, Oakland, CA', u'Harmonic Rye Old Fashioned, ABV 5.3%, IBU 42, SF, CA', u'HenHouse Amarillo Pale Ale, ABV 6.3%, IBU 30, Petaluma, CA', u'Hofbrau Helles Lager, ABV 5.1%, IBU 20, Germany', u'Magnolia Blue Bell ESB, ABV 4.8%, IBU 30, SF, CA', u'Marin Brew Co Blueberry Ale, ABV 5.0%, IBU 23, Larkspur, CA', u'Moonlight Death & Taxes Black Lager, ABV 5.0%, Santa Rosa, CA', u'Moonlight Reality Czech Pilsner, ABV 4.8%, Santa Rosa, CA', u'North Coast Old Rasputin Imperial Stout, ABV 9.0%, IBU 75, Fort Bragg, CA', u'Oskar Blues Old Chub Scottish Ale (nitro), ABV 8.0%, IBU 60, Lyons, CO', u'St. Bernardus Belgian Tripel, ABV 8.0%, IBU 21, Belgium', u'Verhaeghe Duchesse Flanders Red, ABV 6.0%, IBU 11, Belgium', u'Weihenstephaner Hefeweizen, ABV 5.4%, IBU 14, Germany', u'Tangent, Sauvignon Blanc, Edna Valley, California', u'CakeBread, Sauvignon Blanc, Napa Valley, California', u'Fess Parker, Chardonnay, Santa Barbara, California', u'Trefethen, Dry Riesling, Napa Valley, California', u'Chteau Minuty, Rose, Provence, France', u'Bridlewood Estate, Pinot Noir, Healdsburg, California', u'Joel Gott, Zinfandel, Napa Valley, CA', u'Napa Cellers, Cabernet Savignon, Napa Valley, CA', u'Chandon Split, Ros, Napa Valley, California', u'Chandon Split, Brut, \"Classic\", Napa Valley, California', u'Vueve Clicot, Brut 1.5L Magnum, Champagne, France']), (u'so-san-francisco-4', [u'Wings', u'Diced', u'Mushrooms', u'Fish (basa)', u'Beef', u'Calamari', u'Dried Sauteed String Beans', u'Spinach With Garlic', u'Fried Tofu', u'Cherry Pork / Chicken', u'Coroque/Curry Coroque/Edmame Coroque', u'Potstickers(limited Availability)', u'Fried Shrimp Dumplings', u'Fried Pork Dumplings', u'Fried Chicken Dumplings', u'Fried Vegetarian Dumplings', u'Three Deluxe', u'Black Bean Sauce', u'So Black Bean', u'Peanut', u'Shredded Pork With Garlic (stir Fried)', u'Pork With Hot Peppers (stir Fried)', u'Mao Pao', u'Curry', u'Seafood', u'Beef', u'Chicken', u'Pork With Chinese Pickle', u'Pork With Mustard Green', u'Vegetable', u'Seaweed', u'Spicy Combination', u'Hot & Sour', u'Na Ge Mian', u'What Do You Know', u'Whatever', u'Dirty Dastard', u\"I Don't Know\", u'Curry', u'Fish', u'String Beans With Beef, Chicken Or Pork', u'Fish', u'Broccoli Beef', u'Mao Pao Beef, Chicken, Pork Or Veg', u'Fish', u'Fried Rice', u'Curry Fried Rice (veg)', u'Hotlink Fried Rice', u'Chipotle Sausage Fried Rice', u'Side Of Rice'])]\n"
     ]
    }
   ],
   "source": [
    "print take(5, menu_dict.iteritems())"
   ]
  },
  {
   "cell_type": "code",
   "execution_count": 26,
   "metadata": {
    "collapsed": false
   },
   "outputs": [
    {
     "data": {
      "text/plain": [
       "[u'Wings',\n",
       " u'Diced',\n",
       " u'Mushrooms',\n",
       " u'Fish (basa)',\n",
       " u'Beef',\n",
       " u'Calamari',\n",
       " u'Dried Sauteed String Beans',\n",
       " u'Spinach With Garlic',\n",
       " u'Fried Tofu',\n",
       " u'Cherry Pork / Chicken',\n",
       " u'Coroque/Curry Coroque/Edmame Coroque',\n",
       " u'Potstickers(limited Availability)',\n",
       " u'Fried Shrimp Dumplings',\n",
       " u'Fried Pork Dumplings',\n",
       " u'Fried Chicken Dumplings',\n",
       " u'Fried Vegetarian Dumplings',\n",
       " u'Three Deluxe',\n",
       " u'Black Bean Sauce',\n",
       " u'So Black Bean',\n",
       " u'Peanut',\n",
       " u'Shredded Pork With Garlic (stir Fried)',\n",
       " u'Pork With Hot Peppers (stir Fried)',\n",
       " u'Mao Pao',\n",
       " u'Curry',\n",
       " u'Seafood',\n",
       " u'Beef',\n",
       " u'Chicken',\n",
       " u'Pork With Chinese Pickle',\n",
       " u'Pork With Mustard Green',\n",
       " u'Vegetable',\n",
       " u'Seaweed',\n",
       " u'Spicy Combination',\n",
       " u'Hot & Sour',\n",
       " u'Na Ge Mian',\n",
       " u'What Do You Know',\n",
       " u'Whatever',\n",
       " u'Dirty Dastard',\n",
       " u\"I Don't Know\",\n",
       " u'Curry',\n",
       " u'Fish',\n",
       " u'String Beans With Beef, Chicken Or Pork',\n",
       " u'Fish',\n",
       " u'Broccoli Beef',\n",
       " u'Mao Pao Beef, Chicken, Pork Or Veg',\n",
       " u'Fish',\n",
       " u'Fried Rice',\n",
       " u'Curry Fried Rice (veg)',\n",
       " u'Hotlink Fried Rice',\n",
       " u'Chipotle Sausage Fried Rice',\n",
       " u'Side Of Rice']"
      ]
     },
     "execution_count": 26,
     "metadata": {},
     "output_type": "execute_result"
    }
   ],
   "source": [
    "menu_dict['so-san-francisco-4']"
   ]
  },
  {
   "cell_type": "code",
   "execution_count": null,
   "metadata": {
    "collapsed": true
   },
   "outputs": [],
   "source": [
    "## problem = menu pages are not as standard as I'd hoped --> some have dinner, lunch, full menu, apps tabs"
   ]
  },
  {
   "cell_type": "code",
   "execution_count": null,
   "metadata": {
    "collapsed": true
   },
   "outputs": [],
   "source": []
  },
  {
   "cell_type": "markdown",
   "metadata": {},
   "source": [
    "### Food2Fork API"
   ]
  },
  {
   "cell_type": "code",
   "execution_count": 2,
   "metadata": {
    "collapsed": true
   },
   "outputs": [],
   "source": [
    "with open('config.json') as cred:\n",
    "    creds = json.load(cred)"
   ]
  },
  {
   "cell_type": "code",
   "execution_count": 3,
   "metadata": {
    "collapsed": true
   },
   "outputs": [],
   "source": [
    "search_url = 'http://food2fork.com/api/search'\n",
    "get_url = 'http://food2fork.com/api/get'"
   ]
  },
  {
   "cell_type": "markdown",
   "metadata": {},
   "source": [
    "use creds['api-key'] for API key authentication\n",
    "\n",
    "Sample request:\n",
    "http://food2fork.com/api/search?key={API_KEY}&q=shredded%20chicken\n"
   ]
  },
  {
   "cell_type": "markdown",
   "metadata": {},
   "source": [
    "Need to extract recipe ID from each search result and then use the get_url to extract the ingredients, images, etc. "
   ]
  },
  {
   "cell_type": "code",
   "execution_count": 34,
   "metadata": {
    "collapsed": false
   },
   "outputs": [
    {
     "name": "stdout",
     "output_type": "stream",
     "text": [
      "Just finished page  20\n",
      "Just finished page  40\n",
      "Just finished page  60\n",
      "Just finished page  80\n",
      "Just finished page  100\n"
     ]
    },
    {
     "ename": "KeyError",
     "evalue": "'recipes'",
     "output_type": "error",
     "traceback": [
      "\u001b[0;31m---------------------------------------------------------------------------\u001b[0m",
      "\u001b[0;31mKeyError\u001b[0m                                  Traceback (most recent call last)",
      "\u001b[0;32m<ipython-input-34-d747370eb85b>\u001b[0m in \u001b[0;36m<module>\u001b[0;34m()\u001b[0m\n\u001b[1;32m     10\u001b[0m     \u001b[0mr\u001b[0m \u001b[0;34m=\u001b[0m \u001b[0mrequests\u001b[0m\u001b[0;34m.\u001b[0m\u001b[0mget\u001b[0m\u001b[0;34m(\u001b[0m\u001b[0msearch_url\u001b[0m\u001b[0;34m,\u001b[0m \u001b[0mparams\u001b[0m \u001b[0;34m=\u001b[0m \u001b[0mpayload\u001b[0m\u001b[0;34m)\u001b[0m \u001b[0;31m#returns 30 at a time\u001b[0m\u001b[0;34m\u001b[0m\u001b[0m\n\u001b[1;32m     11\u001b[0m \u001b[0;34m\u001b[0m\u001b[0m\n\u001b[0;32m---> 12\u001b[0;31m     \u001b[0;32mfor\u001b[0m \u001b[0mresult\u001b[0m \u001b[0;32min\u001b[0m \u001b[0mr\u001b[0m\u001b[0;34m.\u001b[0m\u001b[0mjson\u001b[0m\u001b[0;34m(\u001b[0m\u001b[0;34m)\u001b[0m\u001b[0;34m[\u001b[0m\u001b[0;34m'recipes'\u001b[0m\u001b[0;34m]\u001b[0m\u001b[0;34m:\u001b[0m\u001b[0;34m\u001b[0m\u001b[0m\n\u001b[0m\u001b[1;32m     13\u001b[0m         \u001b[0mRECIPE_IDS\u001b[0m\u001b[0;34m.\u001b[0m\u001b[0mappend\u001b[0m\u001b[0;34m(\u001b[0m\u001b[0mresult\u001b[0m\u001b[0;34m[\u001b[0m\u001b[0;34m'recipe_id'\u001b[0m\u001b[0;34m]\u001b[0m\u001b[0;34m)\u001b[0m\u001b[0;34m\u001b[0m\u001b[0m\n\u001b[1;32m     14\u001b[0m \u001b[0;34m\u001b[0m\u001b[0m\n",
      "\u001b[0;31mKeyError\u001b[0m: 'recipes'"
     ]
    }
   ],
   "source": [
    "## Build list of recipe_ids\n",
    "PAGE = 1\n",
    "RECIPE_IDS = []\n",
    "\n",
    "while True:\n",
    "    payload = {'key' : creds['api-key'],\n",
    "           'page' : PAGE,\n",
    "           'sort' : 'r'\n",
    "    }\n",
    "    \n",
    "    r = requests.get(search_url, params = payload) #returns 30 at a time\n",
    "    \n",
    "    for result in r.json()['recipes']:\n",
    "        RECIPE_IDS.append(result['recipe_id'])\n",
    "    \n",
    "    if r.json()['count'] < 30: ## end of list\n",
    "        print \"End of recipe list!\"\n",
    "        break\n",
    "    \n",
    "    if PAGE % 20 == 0: ## every 20 pages dump to text file\n",
    "#         with open('recipe_ids.txt', 'a') as out_file:\n",
    "#             for x in RECIPE_IDS:\n",
    "#                 out_file.write(x)\n",
    "#             RECIPE_IDS = []\n",
    "        print \"Just finished page \", PAGE\n",
    "    PAGE +=1    \n",
    "    ## add a time.sleep ?        "
   ]
  },
  {
   "cell_type": "code",
   "execution_count": 19,
   "metadata": {
    "collapsed": false
   },
   "outputs": [
    {
     "data": {
      "text/plain": [
       "15000"
      ]
     },
     "execution_count": 19,
     "metadata": {},
     "output_type": "execute_result"
    }
   ],
   "source": [
    "len(RECIPE_IDS)"
   ]
  },
  {
   "cell_type": "code",
   "execution_count": 38,
   "metadata": {
    "collapsed": false
   },
   "outputs": [],
   "source": [
    "#len(RECIPE_IDS)\n",
    "#type(RECIPE_IDS[0])\n",
    "\n",
    "## write recipe_ids to file so don't have to get again\n",
    "with open('recipe_ids.pkl', 'w') as out_file:\n",
    "    pickle.dump(RECIPE_IDS, out_file)"
   ]
  },
  {
   "cell_type": "code",
   "execution_count": null,
   "metadata": {
    "collapsed": true
   },
   "outputs": [],
   "source": [
    "#len(RECIPE_IDS)\n",
    "with open('recipe_ids_pt2.pkl', 'w') as out_file:\n",
    "    pickle.dump(RECIPE_IDS, out_file)\n",
    "    \n",
    "## reached API limit for the day. Currently have 3030 + 15000 = 18,000 recipe ids. Pick up at page 601 for more.    "
   ]
  },
  {
   "cell_type": "markdown",
   "metadata": {},
   "source": [
    "#### Start here for getting recipe info! But don't forget to read in api-key and URLs first."
   ]
  },
  {
   "cell_type": "code",
   "execution_count": 4,
   "metadata": {
    "collapsed": true
   },
   "outputs": [],
   "source": [
    "## check pickling\n",
    "with open('recipe_ids.pkl') as infile:\n",
    "    id_list = pickle.load(infile)"
   ]
  },
  {
   "cell_type": "code",
   "execution_count": 5,
   "metadata": {
    "collapsed": false
   },
   "outputs": [
    {
     "data": {
      "text/plain": [
       "3030"
      ]
     },
     "execution_count": 5,
     "metadata": {},
     "output_type": "execute_result"
    }
   ],
   "source": [
    "len(id_list)"
   ]
  },
  {
   "cell_type": "code",
   "execution_count": 24,
   "metadata": {
    "collapsed": false
   },
   "outputs": [
    {
     "data": {
      "text/plain": [
       "u'47024'"
      ]
     },
     "execution_count": 24,
     "metadata": {},
     "output_type": "execute_result"
    }
   ],
   "source": [
    "id_list[0]"
   ]
  },
  {
   "cell_type": "code",
   "execution_count": 25,
   "metadata": {
    "collapsed": false
   },
   "outputs": [
    {
     "ename": "NameError",
     "evalue": "name 'id_' is not defined",
     "output_type": "error",
     "traceback": [
      "\u001b[0;31m---------------------------------------------------------------------------\u001b[0m",
      "\u001b[0;31mNameError\u001b[0m                                 Traceback (most recent call last)",
      "\u001b[0;32m<ipython-input-25-2efedb969742>\u001b[0m in \u001b[0;36m<module>\u001b[0;34m()\u001b[0m\n\u001b[1;32m      5\u001b[0m \u001b[0mrecipe_dict\u001b[0m \u001b[0;34m=\u001b[0m \u001b[0mdefaultdict\u001b[0m\u001b[0;34m(\u001b[0m\u001b[0mdict\u001b[0m\u001b[0;34m)\u001b[0m\u001b[0;34m\u001b[0m\u001b[0m\n\u001b[1;32m      6\u001b[0m \u001b[0mresult\u001b[0m \u001b[0;34m=\u001b[0m \u001b[0mrequests\u001b[0m\u001b[0;34m.\u001b[0m\u001b[0mget\u001b[0m\u001b[0;34m(\u001b[0m\u001b[0mget_url\u001b[0m\u001b[0;34m,\u001b[0m \u001b[0mparams\u001b[0m \u001b[0;34m=\u001b[0m \u001b[0mpayload_rec\u001b[0m\u001b[0;34m)\u001b[0m\u001b[0;34m\u001b[0m\u001b[0m\n\u001b[0;32m----> 7\u001b[0;31m \u001b[0mrecipe_dict\u001b[0m\u001b[0;34m[\u001b[0m\u001b[0mid_\u001b[0m\u001b[0;34m]\u001b[0m\u001b[0;34m[\u001b[0m\u001b[0;34m'ingredients'\u001b[0m\u001b[0;34m]\u001b[0m \u001b[0;34m=\u001b[0m \u001b[0mresult\u001b[0m\u001b[0;34m.\u001b[0m\u001b[0mjson\u001b[0m\u001b[0;34m(\u001b[0m\u001b[0;34m)\u001b[0m\u001b[0;34m[\u001b[0m\u001b[0;34m'recipe'\u001b[0m\u001b[0;34m]\u001b[0m\u001b[0;34m[\u001b[0m\u001b[0;34m'ingredients'\u001b[0m\u001b[0;34m]\u001b[0m\u001b[0;34m\u001b[0m\u001b[0m\n\u001b[0m\u001b[1;32m      8\u001b[0m \u001b[0mrecipe_dict\u001b[0m\u001b[0;34m[\u001b[0m\u001b[0mid_\u001b[0m\u001b[0;34m]\u001b[0m\u001b[0;34m[\u001b[0m\u001b[0;34m'publisher'\u001b[0m\u001b[0;34m]\u001b[0m \u001b[0;34m=\u001b[0m \u001b[0mresult\u001b[0m\u001b[0;34m.\u001b[0m\u001b[0mjson\u001b[0m\u001b[0;34m(\u001b[0m\u001b[0;34m)\u001b[0m\u001b[0;34m[\u001b[0m\u001b[0;34m'recipe'\u001b[0m\u001b[0;34m]\u001b[0m\u001b[0;34m[\u001b[0m\u001b[0;34m'publisher'\u001b[0m\u001b[0;34m]\u001b[0m\u001b[0;34m\u001b[0m\u001b[0m\n\u001b[1;32m      9\u001b[0m \u001b[0mrecipe_dict\u001b[0m\u001b[0;34m[\u001b[0m\u001b[0mid_\u001b[0m\u001b[0;34m]\u001b[0m\u001b[0;34m[\u001b[0m\u001b[0;34m'source_url'\u001b[0m\u001b[0;34m]\u001b[0m \u001b[0;34m=\u001b[0m \u001b[0mresult\u001b[0m\u001b[0;34m.\u001b[0m\u001b[0mjson\u001b[0m\u001b[0;34m(\u001b[0m\u001b[0;34m)\u001b[0m\u001b[0;34m[\u001b[0m\u001b[0;34m'recipe'\u001b[0m\u001b[0;34m]\u001b[0m\u001b[0;34m[\u001b[0m\u001b[0;34m'source_url'\u001b[0m\u001b[0;34m]\u001b[0m\u001b[0;34m\u001b[0m\u001b[0m\n",
      "\u001b[0;31mNameError\u001b[0m: name 'id_' is not defined"
     ]
    }
   ],
   "source": [
    "## need to initialize json file with 1 entry\n",
    "payload_rec  = {'key' : creds['api-key'],\n",
    "                   'rId': id_list[0]\n",
    "                 }\n",
    "recipe_dict = defaultdict(dict)\n",
    "result = requests.get(get_url, params = payload_rec)\n",
    " "
   ]
  },
  {
   "cell_type": "code",
   "execution_count": 26,
   "metadata": {
    "collapsed": false
   },
   "outputs": [
    {
     "name": "stdout",
     "output_type": "stream",
     "text": [
      "{u'recipe': {u'publisher': u'The Pioneer Woman', u'ingredients': [u'1 pound Ground Coffee (good, Rich Roast)', u'8 quarts Cold Water', u'Half-and-half (healthy Splash Per Serving)', u'Sweetened Condensed Milk (2-3 Tablespoons Per Serving)', u'Note: Can Use Skim Milk, 2% Milk, Whole Milk, Sugar, Artificial Sweeteners, Syrups...adapt To Your Liking!'], u'f2f_url': u'http://food2fork.com/view/47024', u'source_url': u'http://thepioneerwoman.com/cooking/2011/06/perfect-iced-coffee/', u'recipe_id': u'47024', u'image_url': u'http://static.food2fork.com/icedcoffee5766.jpg', u'social_rank': 100.0, u'publisher_url': u'http://thepioneerwoman.com', u'title': u'Perfect Iced Coffee'}}\n"
     ]
    }
   ],
   "source": [
    "print result.json()"
   ]
  },
  {
   "cell_type": "code",
   "execution_count": 27,
   "metadata": {
    "collapsed": false
   },
   "outputs": [
    {
     "name": "stdout",
     "output_type": "stream",
     "text": [
      "defaultdict(<type 'dict'>, {u'47024': {'publisher': u'The Pioneer Woman', 'source_url': u'http://thepioneerwoman.com/cooking/2011/06/perfect-iced-coffee/', 'image_url': u'http://static.food2fork.com/icedcoffee5766.jpg', 'title': u'Perfect Iced Coffee', 'ingredients': [u'1 pound Ground Coffee (good, Rich Roast)', u'8 quarts Cold Water', u'Half-and-half (healthy Splash Per Serving)', u'Sweetened Condensed Milk (2-3 Tablespoons Per Serving)', u'Note: Can Use Skim Milk, 2% Milk, Whole Milk, Sugar, Artificial Sweeteners, Syrups...adapt To Your Liking!']}})\n"
     ]
    }
   ],
   "source": [
    "rec_id = result.json()['recipe']['recipe_id']\n",
    "recipe_dict[rec_id]['ingredients'] = result.json()['recipe']['ingredients']\n",
    "recipe_dict[rec_id]['publisher'] = result.json()['recipe']['publisher']\n",
    "recipe_dict[rec_id]['source_url'] = result.json()['recipe']['source_url']\n",
    "recipe_dict[rec_id]['image_url'] = result.json()['recipe']['image_url']\n",
    "recipe_dict[rec_id]['title'] = result.json()['recipe']['title']\n",
    "\n",
    "print recipe_dict       "
   ]
  },
  {
   "cell_type": "code",
   "execution_count": 28,
   "metadata": {
    "collapsed": true
   },
   "outputs": [],
   "source": [
    "with open('recipe_info.json', \"w\") as json_file:\n",
    "    json_file.write(\"{}\\n\".format(json.dumps(recipe_dict)))"
   ]
  },
  {
   "cell_type": "code",
   "execution_count": 6,
   "metadata": {
    "collapsed": true
   },
   "outputs": [],
   "source": [
    "def get_recipe_info(recipe_id):\n",
    "    ## Gets the recipe info and stores in dict.\n",
    "    payload  = {'key' : creds['api-key'],\n",
    "                       'rId': recipe_id\n",
    "                     }\n",
    "    result = requests.get(get_url, params = payload)\n",
    "    return result\n",
    "    \n",
    "    \n",
    "def extract_info(json_obj):\n",
    "    recipe_dict = defaultdict(dict)\n",
    "    recipe_dict['rec_id'] = json_obj.json()['recipe']['recipe_id']\n",
    "    recipe_dict['ingredients'] = json_obj.json()['recipe']['ingredients']\n",
    "    recipe_dict['publisher'] = json_obj.json()['recipe']['publisher']\n",
    "    recipe_dict['source_url'] = json_obj.json()['recipe']['source_url']\n",
    "    recipe_dict['image_url'] = json_obj.json()['recipe']['image_url']\n",
    "    recipe_dict['title'] = json_obj.json()['recipe']['title']\n",
    "\n",
    "    #print recipe_dict  \n",
    "    return recipe_dict\n",
    "\n",
    "def write_to_json(filepath, dict_obj):\n",
    "    with open(filepath, \"a\") as json_file:\n",
    "#         for line in dict_obj:\n",
    "        json_file.write(\"{}\\n\".format(json.dumps(dict_obj)))       \n",
    "\n",
    "def write_to_database(dict_obj, db):\n",
    "    db.recipes.insert_one(dict_obj)"
   ]
  },
  {
   "cell_type": "code",
   "execution_count": 48,
   "metadata": {
    "collapsed": false
   },
   "outputs": [
    {
     "data": {
      "text/plain": [
       "u'35382'"
      ]
     },
     "execution_count": 48,
     "metadata": {},
     "output_type": "execute_result"
    }
   ],
   "source": [
    "id_list[1]"
   ]
  },
  {
   "cell_type": "code",
   "execution_count": 50,
   "metadata": {
    "collapsed": false
   },
   "outputs": [],
   "source": [
    "result = get_recipe_info(id_list[1])"
   ]
  },
  {
   "cell_type": "code",
   "execution_count": 51,
   "metadata": {
    "collapsed": false
   },
   "outputs": [
    {
     "name": "stdout",
     "output_type": "stream",
     "text": [
      "{u'recipe': {u'publisher': u'Closet Cooking', u'ingredients': [u'2 jalapeno peppers, cut in half lengthwise and seeded', u'2 slices sour dough bread', u'1 tablespoon butter, room temperature', u'2 tablespoons cream cheese, room temperature', u'1/2 cup jack and cheddar cheese, shredded', u'1 tablespoon tortilla chips, crumbled\\n'], u'f2f_url': u'http://food2fork.com/view/35382', u'source_url': u'http://www.closetcooking.com/2011/04/jalapeno-popper-grilled-cheese-sandwich.html', u'recipe_id': u'35382', u'image_url': u'http://static.food2fork.com/Jalapeno2BPopper2BGrilled2BCheese2BSandwich2B12B500fd186186.jpg', u'social_rank': 100.0, u'publisher_url': u'http://closetcooking.com', u'title': u'Jalapeno Popper Grilled Cheese Sandwich'}}\n"
     ]
    }
   ],
   "source": [
    "print result.json()"
   ]
  },
  {
   "cell_type": "code",
   "execution_count": 57,
   "metadata": {
    "collapsed": false
   },
   "outputs": [
    {
     "name": "stdout",
     "output_type": "stream",
     "text": [
      "defaultdict(<type 'dict'>, {u'35382': {'publisher': u'Closet Cooking', 'source_url': u'http://www.closetcooking.com/2011/04/jalapeno-popper-grilled-cheese-sandwich.html', 'image_url': u'http://static.food2fork.com/Jalapeno2BPopper2BGrilled2BCheese2BSandwich2B12B500fd186186.jpg', 'title': u'Jalapeno Popper Grilled Cheese Sandwich', 'ingredients': [u'2 jalapeno peppers, cut in half lengthwise and seeded', u'2 slices sour dough bread', u'1 tablespoon butter, room temperature', u'2 tablespoons cream cheese, room temperature', u'1/2 cup jack and cheddar cheese, shredded', u'1 tablespoon tortilla chips, crumbled\\n']}})\n"
     ]
    }
   ],
   "source": [
    "new_dict = extract_info(result)\n",
    "print new_dict"
   ]
  },
  {
   "cell_type": "code",
   "execution_count": 59,
   "metadata": {
    "collapsed": true
   },
   "outputs": [],
   "source": [
    "write_to_json('recipe_info.json', new_dict)"
   ]
  },
  {
   "cell_type": "code",
   "execution_count": 11,
   "metadata": {
    "collapsed": true
   },
   "outputs": [],
   "source": [
    "with open('recipe_ids_pt2.pkl') as infile:\n",
    "    id_list = pickle.load(infile)"
   ]
  },
  {
   "cell_type": "code",
   "execution_count": 1,
   "metadata": {
    "collapsed": false
   },
   "outputs": [
    {
     "data": {
      "text/plain": [
       "1373"
      ]
     },
     "execution_count": 1,
     "metadata": {},
     "output_type": "execute_result"
    }
   ],
   "source": [
    "1459 - 86\n"
   ]
  },
  {
   "cell_type": "code",
   "execution_count": 9,
   "metadata": {
    "collapsed": false
   },
   "outputs": [
    {
     "name": "stdout",
     "output_type": "stream",
     "text": [
      "Just finished number  0\n",
      "Just finished number  500\n",
      "Just finished number  1000\n"
     ]
    }
   ],
   "source": [
    "## Now iteratively build up json file with other recipes.\n",
    "\n",
    "for i, num in enumerate(id_list[:1459]): ## still need to run this!\n",
    "    result = get_recipe_info(num)\n",
    "    dict_ob = extract_info(result)\n",
    "    write_to_json('recipe_info.json', dict_ob)\n",
    "    if i % 500 == 0:\n",
    "        print \"Just finished number \", i\n",
    "## 4/17 have first 1989 recipes.  \n",
    "## 4/18 recipe_ids.pkl file finished"
   ]
  },
  {
   "cell_type": "code",
   "execution_count": null,
   "metadata": {
    "collapsed": true
   },
   "outputs": [],
   "source": []
  },
  {
   "cell_type": "code",
   "execution_count": 65,
   "metadata": {
    "collapsed": false
   },
   "outputs": [
    {
     "data": {
      "text/plain": [
       "1994"
      ]
     },
     "execution_count": 65,
     "metadata": {},
     "output_type": "execute_result"
    }
   ],
   "source": [
    "len(id_list[6:2000])"
   ]
  },
  {
   "cell_type": "code",
   "execution_count": 15,
   "metadata": {
    "collapsed": false
   },
   "outputs": [
    {
     "name": "stdout",
     "output_type": "stream",
     "text": [
      "{\n",
      "    \"recipe\": {\n",
      "        \"publisher\": \"Closet Cooking\",\n",
      "        \"ingredients\": [\n",
      "            \"4 small chicken breasts, pounded thin\",\n",
      "            \"salt and pepper to taste\",\n",
      "            \"4 jalapenos, diced\",\n",
      "            \"4 ounces cream cheese, room temperature\",\n",
      "            \"1 cup cheddar cheese, shredded\",\n",
      "            \"8 slices bacon\\n\"\n",
      "        ],\n",
      "        \"f2f_url\": \"http://food2fork.com/view/35120\",\n",
      "        \"source_url\": \"http://www.closetcooking.com/2012/11/bacon-wrapped-jalapeno-popper-stuffed.html\",\n",
      "        \"recipe_id\": \"35120\",\n",
      "        \"image_url\": \"http://static.food2fork.com/Bacon2BWrapped2BJalapeno2BPopper2BStuffed2BChicken2B5002B5909939b0e65.jpg\",\n",
      "        \"social_rank\": 100.0,\n",
      "        \"publisher_url\": \"http://closetcooking.com\",\n",
      "        \"title\": \"Bacon Wrapped Jalapeno Popper Stuffed Chicken\"\n",
      "    }\n",
      "}\n"
     ]
    }
   ],
   "source": [
    "print json.dumps(test.json(), indent=4, separators=(',', ': '))"
   ]
  },
  {
   "cell_type": "code",
   "execution_count": null,
   "metadata": {
    "collapsed": true
   },
   "outputs": [],
   "source": [
    "## should be through # 1373 on recipes_ids_pt2.pkl"
   ]
  },
  {
   "cell_type": "code",
   "execution_count": 1,
   "metadata": {
    "collapsed": false
   },
   "outputs": [
    {
     "data": {
      "text/plain": [
       "3873"
      ]
     },
     "execution_count": 1,
     "metadata": {},
     "output_type": "execute_result"
    }
   ],
   "source": [
    "1373+2500 #4/19\n"
   ]
  },
  {
   "cell_type": "code",
   "execution_count": null,
   "metadata": {
    "collapsed": true
   },
   "outputs": [],
   "source": []
  }
 ],
 "metadata": {
  "kernelspec": {
   "display_name": "Python 2",
   "language": "python",
   "name": "python2"
  },
  "language_info": {
   "codemirror_mode": {
    "name": "ipython",
    "version": 2
   },
   "file_extension": ".py",
   "mimetype": "text/x-python",
   "name": "python",
   "nbconvert_exporter": "python",
   "pygments_lexer": "ipython2",
   "version": "2.7.11"
  }
 },
 "nbformat": 4,
 "nbformat_minor": 0
}
