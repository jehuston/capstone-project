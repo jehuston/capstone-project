{
 "cells": [
  {
   "cell_type": "code",
   "execution_count": 1,
   "metadata": {
    "collapsed": true
   },
   "outputs": [],
   "source": [
    "import pandas as pd\n",
    "import json"
   ]
  },
  {
   "cell_type": "code",
   "execution_count": 37,
   "metadata": {
    "collapsed": false
   },
   "outputs": [
    {
     "ename": "ValueError",
     "evalue": "Extra data: line 1 column 526 - line 2 column 1 (char 525 - 1925981)",
     "output_type": "error",
     "traceback": [
      "\u001b[0;31m---------------------------------------------------------------------------\u001b[0m",
      "\u001b[0;31mValueError\u001b[0m                                Traceback (most recent call last)",
      "\u001b[0;32m<ipython-input-37-0b74634e1abe>\u001b[0m in \u001b[0;36m<module>\u001b[0;34m()\u001b[0m\n\u001b[1;32m      2\u001b[0m \u001b[0;32mwith\u001b[0m \u001b[0mopen\u001b[0m\u001b[0;34m(\u001b[0m\u001b[0;34m'cleaned_recipes.json'\u001b[0m\u001b[0;34m)\u001b[0m \u001b[0;32mas\u001b[0m \u001b[0minfile\u001b[0m\u001b[0;34m:\u001b[0m\u001b[0;34m\u001b[0m\u001b[0m\n\u001b[1;32m      3\u001b[0m     \u001b[0;32mfor\u001b[0m \u001b[0mline\u001b[0m \u001b[0;32min\u001b[0m \u001b[0minfile\u001b[0m\u001b[0;34m:\u001b[0m\u001b[0;34m\u001b[0m\u001b[0m\n\u001b[0;32m----> 4\u001b[0;31m         \u001b[0mdata\u001b[0m\u001b[0;34m.\u001b[0m\u001b[0mappend\u001b[0m\u001b[0;34m(\u001b[0m\u001b[0mjson\u001b[0m\u001b[0;34m.\u001b[0m\u001b[0mloads\u001b[0m\u001b[0;34m(\u001b[0m\u001b[0mline\u001b[0m\u001b[0;34m)\u001b[0m\u001b[0;34m)\u001b[0m\u001b[0;34m\u001b[0m\u001b[0m\n\u001b[0m",
      "\u001b[0;32m/Users/janehuston/anaconda/lib/python2.7/json/__init__.pyc\u001b[0m in \u001b[0;36mloads\u001b[0;34m(s, encoding, cls, object_hook, parse_float, parse_int, parse_constant, object_pairs_hook, **kw)\u001b[0m\n\u001b[1;32m    337\u001b[0m             \u001b[0mparse_int\u001b[0m \u001b[0;32mis\u001b[0m \u001b[0mNone\u001b[0m \u001b[0;32mand\u001b[0m \u001b[0mparse_float\u001b[0m \u001b[0;32mis\u001b[0m \u001b[0mNone\u001b[0m \u001b[0;32mand\u001b[0m\u001b[0;34m\u001b[0m\u001b[0m\n\u001b[1;32m    338\u001b[0m             parse_constant is None and object_pairs_hook is None and not kw):\n\u001b[0;32m--> 339\u001b[0;31m         \u001b[0;32mreturn\u001b[0m \u001b[0m_default_decoder\u001b[0m\u001b[0;34m.\u001b[0m\u001b[0mdecode\u001b[0m\u001b[0;34m(\u001b[0m\u001b[0ms\u001b[0m\u001b[0;34m)\u001b[0m\u001b[0;34m\u001b[0m\u001b[0m\n\u001b[0m\u001b[1;32m    340\u001b[0m     \u001b[0;32mif\u001b[0m \u001b[0mcls\u001b[0m \u001b[0;32mis\u001b[0m \u001b[0mNone\u001b[0m\u001b[0;34m:\u001b[0m\u001b[0;34m\u001b[0m\u001b[0m\n\u001b[1;32m    341\u001b[0m         \u001b[0mcls\u001b[0m \u001b[0;34m=\u001b[0m \u001b[0mJSONDecoder\u001b[0m\u001b[0;34m\u001b[0m\u001b[0m\n",
      "\u001b[0;32m/Users/janehuston/anaconda/lib/python2.7/json/decoder.pyc\u001b[0m in \u001b[0;36mdecode\u001b[0;34m(self, s, _w)\u001b[0m\n\u001b[1;32m    365\u001b[0m         \u001b[0mend\u001b[0m \u001b[0;34m=\u001b[0m \u001b[0m_w\u001b[0m\u001b[0;34m(\u001b[0m\u001b[0ms\u001b[0m\u001b[0;34m,\u001b[0m \u001b[0mend\u001b[0m\u001b[0;34m)\u001b[0m\u001b[0;34m.\u001b[0m\u001b[0mend\u001b[0m\u001b[0;34m(\u001b[0m\u001b[0;34m)\u001b[0m\u001b[0;34m\u001b[0m\u001b[0m\n\u001b[1;32m    366\u001b[0m         \u001b[0;32mif\u001b[0m \u001b[0mend\u001b[0m \u001b[0;34m!=\u001b[0m \u001b[0mlen\u001b[0m\u001b[0;34m(\u001b[0m\u001b[0ms\u001b[0m\u001b[0;34m)\u001b[0m\u001b[0;34m:\u001b[0m\u001b[0;34m\u001b[0m\u001b[0m\n\u001b[0;32m--> 367\u001b[0;31m             \u001b[0;32mraise\u001b[0m \u001b[0mValueError\u001b[0m\u001b[0;34m(\u001b[0m\u001b[0merrmsg\u001b[0m\u001b[0;34m(\u001b[0m\u001b[0;34m\"Extra data\"\u001b[0m\u001b[0;34m,\u001b[0m \u001b[0ms\u001b[0m\u001b[0;34m,\u001b[0m \u001b[0mend\u001b[0m\u001b[0;34m,\u001b[0m \u001b[0mlen\u001b[0m\u001b[0;34m(\u001b[0m\u001b[0ms\u001b[0m\u001b[0;34m)\u001b[0m\u001b[0;34m)\u001b[0m\u001b[0;34m)\u001b[0m\u001b[0;34m\u001b[0m\u001b[0m\n\u001b[0m\u001b[1;32m    368\u001b[0m         \u001b[0;32mreturn\u001b[0m \u001b[0mobj\u001b[0m\u001b[0;34m\u001b[0m\u001b[0m\n\u001b[1;32m    369\u001b[0m \u001b[0;34m\u001b[0m\u001b[0m\n",
      "\u001b[0;31mValueError\u001b[0m: Extra data: line 1 column 526 - line 2 column 1 (char 525 - 1925981)"
     ]
    }
   ],
   "source": [
    "data = []\n",
    "with open('cleaned_recipes.json') as infile:\n",
    "    for line in infile:\n",
    "        data.append(json.loads(line))"
   ]
  },
  {
   "cell_type": "code",
   "execution_count": 35,
   "metadata": {
    "collapsed": false
   },
   "outputs": [
    {
     "data": {
      "text/plain": [
       "3030"
      ]
     },
     "execution_count": 35,
     "metadata": {},
     "output_type": "execute_result"
    }
   ],
   "source": [
    "len(data)"
   ]
  },
  {
   "cell_type": "code",
   "execution_count": 10,
   "metadata": {
    "collapsed": false
   },
   "outputs": [
    {
     "data": {
      "text/plain": [
       "{u'47024': {u'image_url': u'http://static.food2fork.com/icedcoffee5766.jpg',\n",
       "  u'ingredients': [u'1 pound Ground Coffee (good, Rich Roast)',\n",
       "   u'8 quarts Cold Water',\n",
       "   u'Half-and-half (healthy Splash Per Serving)',\n",
       "   u'Sweetened Condensed Milk (2-3 Tablespoons Per Serving)',\n",
       "   u'Note: Can Use Skim Milk, 2% Milk, Whole Milk, Sugar, Artificial Sweeteners, Syrups...adapt To Your Liking!'],\n",
       "  u'publisher': u'The Pioneer Woman',\n",
       "  u'source_url': u'http://thepioneerwoman.com/cooking/2011/06/perfect-iced-coffee/',\n",
       "  u'title': u'Perfect Iced Coffee'}}"
      ]
     },
     "execution_count": 10,
     "metadata": {},
     "output_type": "execute_result"
    }
   ],
   "source": [
    "data[0]"
   ]
  },
  {
   "cell_type": "code",
   "execution_count": 15,
   "metadata": {
    "collapsed": false
   },
   "outputs": [
    {
     "data": {
      "text/plain": [
       "dict"
      ]
     },
     "execution_count": 15,
     "metadata": {},
     "output_type": "execute_result"
    }
   ],
   "source": [
    "type(data[0])"
   ]
  },
  {
   "cell_type": "code",
   "execution_count": 31,
   "metadata": {
    "collapsed": false
   },
   "outputs": [],
   "source": [
    "new_recipe_dicts = []\n",
    "for ddict in data[:5]:\n",
    "    new_dict = {}\n",
    "    new_dict['R_id'] = ddict.keys()[0]\n",
    "    #print ddict.keys()[0]\n",
    "    #print ddict.values()[0]['publisher']\n",
    "    new_dict['publisher'] = ddict.values()[0]['publisher']\n",
    "    new_dict['ingredients'] = ddict.values()[0]['ingredients']\n",
    "    new_dict['image_url'] = ddict.values()[0]['image_url']\n",
    "    new_dict['source_url'] = ddict.values()[0]['source_url']\n",
    "    new_dict['title'] = ddict.values()[0]['title']\n",
    "    new_recipe_dicts.append(new_dict)"
   ]
  },
  {
   "cell_type": "code",
   "execution_count": 32,
   "metadata": {
    "collapsed": false
   },
   "outputs": [
    {
     "data": {
      "text/plain": [
       "[{'R_id': u'47024',\n",
       "  'image_url': u'http://static.food2fork.com/icedcoffee5766.jpg',\n",
       "  'ingredients': [u'1 pound Ground Coffee (good, Rich Roast)',\n",
       "   u'8 quarts Cold Water',\n",
       "   u'Half-and-half (healthy Splash Per Serving)',\n",
       "   u'Sweetened Condensed Milk (2-3 Tablespoons Per Serving)',\n",
       "   u'Note: Can Use Skim Milk, 2% Milk, Whole Milk, Sugar, Artificial Sweeteners, Syrups...adapt To Your Liking!'],\n",
       "  'publisher': u'The Pioneer Woman',\n",
       "  'source_url': u'http://thepioneerwoman.com/cooking/2011/06/perfect-iced-coffee/',\n",
       "  'title': u'Perfect Iced Coffee'},\n",
       " {'R_id': u'35382',\n",
       "  'image_url': u'http://static.food2fork.com/Jalapeno2BPopper2BGrilled2BCheese2BSandwich2B12B500fd186186.jpg',\n",
       "  'ingredients': [u'2 jalapeno peppers, cut in half lengthwise and seeded',\n",
       "   u'2 slices sour dough bread',\n",
       "   u'1 tablespoon butter, room temperature',\n",
       "   u'2 tablespoons cream cheese, room temperature',\n",
       "   u'1/2 cup jack and cheddar cheese, shredded',\n",
       "   u'1 tablespoon tortilla chips, crumbled\\n'],\n",
       "  'publisher': u'Closet Cooking',\n",
       "  'source_url': u'http://www.closetcooking.com/2011/04/jalapeno-popper-grilled-cheese-sandwich.html',\n",
       "  'title': u'Jalapeno Popper Grilled Cheese Sandwich'},\n",
       " {'R_id': u'47319',\n",
       "  'image_url': u'http://static.food2fork.com/CrashHotPotatoes5736.jpg',\n",
       "  'ingredients': [u'12 whole New Potatoes (or Other Small Round Potatoes)',\n",
       "   u'3 Tablespoons Olive Oil',\n",
       "   u'Kosher Salt To Taste',\n",
       "   u'Black Pepper To Taste',\n",
       "   u'Rosemary (or Other Herbs Of Choice) To Taste'],\n",
       "  'publisher': u'The Pioneer Woman',\n",
       "  'source_url': u'http://thepioneerwoman.com/cooking/2008/06/crash-hot-potatoes/',\n",
       "  'title': u'Crash Hot Potatoes'},\n",
       " {'R_id': u'54384',\n",
       "  'image_url': u'http://static.food2fork.com/avocadomacandcheesedc99.jpg',\n",
       "  'ingredients': [u'10 ounces dry elbow macaroni',\n",
       "   u'2 cloves garlic, minced',\n",
       "   u'2 avocados, peeled and pitted',\n",
       "   u'2 tablespoons fresh lime juice',\n",
       "   u'1/3 cup chopped fresh cilantro',\n",
       "   u'Salt and pepper, to taste',\n",
       "   u'2 tablespoons butter',\n",
       "   u'2 tablespoons all-purpose flour',\n",
       "   u'1 cup milk',\n",
       "   u'2 cups shredded Pepper Jack cheese',\n",
       "   u'Salt and pepper, to taste',\n",
       "   u'Fresh avocado chunks, for garnish, if desired'],\n",
       "  'publisher': u'Two Peas and Their Pod',\n",
       "  'source_url': u'http://www.twopeasandtheirpod.com/stovetop-avocado-mac-and-cheese/',\n",
       "  'title': u'Stovetop Avocado Mac and Cheese'},\n",
       " {'R_id': u'35171',\n",
       "  'image_url': u'http://static.food2fork.com/Buffalo2BChicken2BGrilled2BCheese2BSandwich2B5002B4983f2702fe4.jpg',\n",
       "  'ingredients': [u'1/4 cup cooked shredded chicken, warm',\n",
       "   u'1 tablespoon hot sauce',\n",
       "   u'1/2 tablespoon mayo (optional)',\n",
       "   u'1 tablespoon carrot, grated',\n",
       "   u'1 tablespoon celery, sliced',\n",
       "   u'1 tablespoon green or red onion, sliced or diced',\n",
       "   u'1 tablespoon blue cheese, room temperature, crumbled',\n",
       "   u'1/2 cup cheddar cheese, room temperature, grated',\n",
       "   u'2 slices bread',\n",
       "   u'1 tablespoon butter, room temperature\\n'],\n",
       "  'publisher': u'Closet Cooking',\n",
       "  'source_url': u'http://www.closetcooking.com/2011/08/buffalo-chicken-grilled-cheese-sandwich.html',\n",
       "  'title': u'Buffalo Chicken Grilled Cheese Sandwich'}]"
      ]
     },
     "execution_count": 32,
     "metadata": {},
     "output_type": "execute_result"
    }
   ],
   "source": [
    "new_recipe_dicts"
   ]
  },
  {
   "cell_type": "code",
   "execution_count": null,
   "metadata": {
    "collapsed": true
   },
   "outputs": [],
   "source": []
  }
 ],
 "metadata": {
  "kernelspec": {
   "display_name": "Python 2",
   "language": "python",
   "name": "python2"
  },
  "language_info": {
   "codemirror_mode": {
    "name": "ipython",
    "version": 2
   },
   "file_extension": ".py",
   "mimetype": "text/x-python",
   "name": "python",
   "nbconvert_exporter": "python",
   "pygments_lexer": "ipython2",
   "version": "2.7.11"
  }
 },
 "nbformat": 4,
 "nbformat_minor": 0
}
