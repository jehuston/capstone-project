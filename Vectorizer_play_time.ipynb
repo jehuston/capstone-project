{
 "cells": [
  {
   "cell_type": "code",
   "execution_count": 1,
   "metadata": {
    "collapsed": true
   },
   "outputs": [],
   "source": [
    "import pandas as pd\n",
    "import numpy as np\n",
    "from pymongo import MongoClient\n",
    "from gensim import corpora, models, similarities\n",
    "from nltk.corpus import stopwords"
   ]
  },
  {
   "cell_type": "code",
   "execution_count": 2,
   "metadata": {
    "collapsed": false
   },
   "outputs": [],
   "source": [
    "conn = MongoClient()\n",
    "db = conn.project"
   ]
  },
  {
   "cell_type": "code",
   "execution_count": 3,
   "metadata": {
    "collapsed": false
   },
   "outputs": [
    {
     "data": {
      "text/plain": [
       "86"
      ]
     },
     "execution_count": 3,
     "metadata": {},
     "output_type": "execute_result"
    }
   ],
   "source": [
    "db.recipes.count()"
   ]
  },
  {
   "cell_type": "markdown",
   "metadata": {},
   "source": [
    "### Vectorize Recipes and Prepare for Similarity Queries"
   ]
  },
  {
   "cell_type": "code",
   "execution_count": 5,
   "metadata": {
    "collapsed": false
   },
   "outputs": [
    {
     "name": "stdout",
     "output_type": "stream",
     "text": [
      "{u'ingredients': [u'1 small shallot, chopped', u'2 tablespoons chopped flat-leaf parsley', u'2 tablespoons red wine vinegar', u'2 teaspoons fresh thyme leaves', u'Kosher salt, freshly ground pepper', u'1/3 cup extra-virgin olive oil', u'2 cups cooked basmati rice, cooled', u'2 cups bite-size pieces assorted vegetables (such as radishes, tomatoes, peas, summer squash) or carrot ribbons', u'3/4 cup torn mixed leafy greens, sprouts, and herbs', u'1/3 cup chopped red, yellow, or white onion or scallions', u'2 tablespoons toasted pine nuts (optional)'], u'title': u'Basmati Rice with Summer Vegetable Salad'}\n",
      "{u'ingredients': [u'2 pounds new potatoes, halved', u'1 lemon, thinly sliced', u'2 tablespoons olive oil', u'2 tablespoons kosher salt and black pepper\\n'], u'title': u'Roasted Potatoes and Lemon With Dill'}\n",
      "{u'ingredients': [u'1/2 red onion, thinly sliced', u'About 1 1/2 cups red wine vinegar', u'1/4 cup olive oil', u'1 1/2 teaspoons ancho chile powder', u'1 1/2 teaspoons dried oregano', u'1/2 teaspoon ground cumin', u'1/4 cup lightly packed fresh cilantro leaves, chopped, plus more for garnish', u'1 jalapeo, stemmed and chopped', u'1 pound flaky white fish (such as mahi mahi or cod), cut into 4 pieces', u'Salt', u'8 fresh corn tortillas', u'Mexican crema, homemade or store-bought', u'Fresh Tomato Salsa ', u'2 limes, cut into quarters'], u'title': u'Fish Tacos'}\n",
      "{u'ingredients': [u'6 tablespoons Asian fish sauce', u'6 tablespoons brown sugar', u'12 tablespoons lime juice', u'2 garlic cloves, finely grated or minced', u'Small Thai or Serrano chiles, thinly sliced, to taste', u'3 tablespoons Asian fish sauce', u'3 tablespoons rice vinegar', u'9 tablespoons lime juice', u'3 tablespoons soy sauce', u'1 one-and-a-half inch chunk ginger, peeled and sliced', u'6 tablespoons natural unsalted peanut butter', u'1 tablespoon toasted sesame oil', u'Pinch of cayenne', u'1 1/4 pounds boneless skinless chicken thighs (about 6)', u'8 ounces dried rice vermicelli or other rice noodles', u'2 small cucumbers, cut in 1/4-inch half moons', u'2 medium carrots, cut in thin julienne', u'Additional vegetables, as suggested above', u'Small handful basil or mint or cilantro sprigs, or your favorite of the three (torn or roughly chopped)', u'4 or more scallions, slivered', u'1/4 cup crushed or chopped roasted peanuts', u'Lime wedges (to serve)'], u'title': u'cold rice noodles with peanut-lime chicken'}\n",
      "{u'ingredients': [u'1 recipe pastry for a 9 inch double crust pie', u'1/2 cup unsalted butter', u'3 tablespoons all-purpose flour', u'1/2 cup white sugar', u'1/2 cup packed brown sugar', u'1/4 cup water', u'8 Granny Smith apples - peeled, cored and sliced'], u'title': u'Apple Pie by Grandma Ople'}\n",
      "{u'ingredients': [u'1 package 1 package', u'1 cup 1 cup', u'1 whole 1 whole', u'1 cup 1 cup'], u'title': u'Cool Whip Cookies'}\n",
      "{u'ingredients': [u'1 1/4 cups all-purpose flour', u'1/4 teaspoon salt', u'1/2 cup butter, chilled and diced', u'1/4 cup ice water'], u'title': u'Butter Flaky Pie Crust'}\n",
      "{u'ingredients': [u'2 tablespoons olive oil', u'1 large yellow onion, chopped', u'2 shallots, chopped', u'8 small/med garlic cloves, finely chopped', u'1 tablespoon ginger, peeled and grated', u'3 tablespoons chili powder', u'1 teaspoon ground cumin', u'1 serrano pepper, seeded and finely chopped', u'1 chipotle pepper (from can or rehydrate), minced', u'1 28-ounce can of crushed tomatoes', u'10 cups vegetable broth', u'1 1/2 cups cooked chickpeas (canned is fine)', u'2 1/4 cups black, brown, or green lentils (or combo), rinsed and picked over', u'2/3 cup pearled barley or pearled farro', u'2/3 cup bulgur wheat', u'1 teaspoon fine grain sea salt (or to taste)', u'toppings (opt): a bit of chopped serranos, a bit of feta or dollop of thinned out salted yogurt, a drizzle of equal parts chopped fresh oregano and olive oil, chopped onion'], u'title': u'Pierce Street Vegetarian Chili'}\n",
      "{u'ingredients': [u'1 15- to 15 1/2-ounce can chickpeas (garbanzo beans), rinsed, drained', u'2 tablespoons chopped fresh basil', u'2 tablespoons chopped fresh Italian parsley', u'2 tablespoons fresh lemon juice', u'4 teaspoons extra-virgin olive oil', u'1 small garlic clove, pressed', u'1/3 cup (packed) freshly grated Parmesan cheese', u'Coarse kosher salt'], u'title': u'Chickpea Salad with Lemon, Parmesan, and Fresh Herbs'}\n",
      "{u'ingredients': [u'1 cup Almond Breeze Unsweetened Almondmilk Coconutmilk', u'1 cup raspberries (fresh or frozen)', u'1/2 medium banana', u'1/2 cup spinach', u'2 tablespoons coconut, for garnish'], u'title': u'Raspberry Coconut Smoothie'}\n",
      "{u'ingredients': [u'100g pancetta', u'50g pecorino cheese', u'50g Parmesan', u'3 large eggs', u'350g spaghetti (De Cecco is very good)', u'2 plump garlic cloves , peeled and left whole', u'50g unsalted butter', u'Maldon salt and freshly grated black pepper'], u'title': u'Ultimate spaghetti carbonara'}\n",
      "{u'ingredients': [u' cups  cups', u' cups  cups', u' teaspoons  teaspoons', u'1 teaspoon 1 teaspoon', u'2 whole 2 whole', u'1- cup 1- cup', u'1 teaspoon 1 teaspoon', u' cups  cups', u'1- cup 1- cup', u'1 Tablespoon 1 Tablespoon', u'2 whole 2 whole', u' cups  cups', u'8 ounces, weight 8 ounces, weight', u' cups  cups', u'1 Tablespoon 1 Tablespoon', u'1 whole 1 whole', u'1 Tablespoon 1 Tablespoon', u'2 Tablespoons 2 Tablespoons', u' teaspoons  teaspoons', u'1 teaspoon 1 teaspoon'], u'title': u'Blueberry Cream Cheese Bread'}\n",
      "{u'ingredients': [u'FOR THE CAKE:', u'1 cup Prunes', u'1 cup Sugar', u'3 whole Eggs', u'1 cup Canola Oil', u'1-1/2 cup Flour, Sifted', u'1 teaspoon Baking Soda', u'1 teaspoon Nutmeg', u'1 teaspoon Allspice', u'1 teaspoon Cinnamon', u'1 cup Buttermilk', u'1 teaspoon Vanilla Extract', u'_____', u'FOR THE ICING:', u'1 cup Sugar', u'1/2 cup Buttermilk', u'1/2 teaspoon Baking Soda', u'1 Tablespoon White Corn Syrup', u'1/4 cup Butter', u'1/2 teaspoon Vanilla'], u'title': u'Grandma Iny\\u2019s Prune Cake'}\n",
      "{u'ingredients': [u'1 1/2 pounds cherry tomatoes or other small tomatoes on the vine', u'6 tablespoons olive oil, divided', u'2 tablespoons herbes de Provence', u'1 teaspoon kosher salt plus more', u'Freshly ground black pepper', u'1 tablespoon Worcestershire sauce', u'1 pound skinless, boneless chicken breasts', u'1 small shallot, minced', u'2 tablespoons red wine vinegar', u'3 tablespoons flat-leaf parsley leaves', u'3 tablespoons fresh tarragon leaves'], u'title': u'Chicken with Herb-Roasted Tomatoes and Pan Sauce'}\n",
      "{u'ingredients': [u'1 whole 1 whole', u'2 cloves 2 cloves', u'2 cans 2 cans', u'2 teaspoons 2 teaspoons', u'1- teaspoon 1- teaspoon', u'1 Tablespoon 1 Tablespoon', u'3 Tablespoons 3 Tablespoons', u' cups  cups', u'2 Tablespoons 2 Tablespoons', u' cups  cups', u'1 Tablespoon 1 Tablespoon', u'6 whole 6 whole'], u'title': u'Boyfriend-Approved Spicy Black Bean Burgers'}\n",
      "{u'ingredients': [u'2 cups cabbage, finely shredded', u'1 cup leeks, well washed and chopped (see head notes)', u'2/3 cup whole wheat pastry flour (or apf flour)', u'a couple pinches of fine grain sea salt', u'2 eggs, beaten', u'1+ tablespoon olive oil', u'Garnish: toasted slivered almonds, chives/ herbs'], u'title': u'Japanese Pizza'}\n",
      "{u'ingredients': [u'1 pound fresh asparagus spears, trimmed', u'1 tablespoon olive oil', u'salt and pepper to taste'], u'title': u'Grilled Asparagus'}\n",
      "{u'ingredients': [u'2 tsp olive oil', u'1 onion , finely chopped', u'1 tbsp paprika', u'2 garlic cloves , crushed', u'300g mixed mushrooms , chopped', u'150ml low-sodium beef or vegetable stock', u'1 tbsp Worcestershire sauce , or vegetarian alternative', u'3 tbsp half-fat soured cream', u'small bunch parsley , roughly chopped', u'250g pouch cooked wild rice'], u'title': u'Mushroom stroganoff'}\n",
      "{u'ingredients': [u'1 cup diced seedless cucumber', u'1 cup diced mango', u'1/4 cup diced red onion', u'1 small jalapeo, seeds removed and diced', u'1/4 cup chopped cilantro', u'Juice of 1 lime', u'Salt and black pepper, to taste', u'Tortilla chips, for serving, optional'], u'title': u'Cucumber Mango Salsa'}\n",
      "{u'ingredients': [u' teaspoon cumin seeds', u'1 teaspoon fennel seeds', u'2  cloves', u'1 heaped tablespoon sweet smoked paprika', u'zest and juice of 1 orange', u'1 small bunch of fresh thyme, leaves picked and very finely chopped', u'4 cloves of garlic, peeled and very finely chopped', u'150 ml Heinz organic tomato ketchup', u'6 tablespoons balsamic vinegar', u'4 x 400 g higher-welfare pork fillets', u'  sea salt', u'  freshly ground black pepper', u'1 handful of fresh coriander, leaves picked and chopped, optional', u'juice of  optional 1 lemon'], u'title': u'Blackened barbecued pork fillets'}\n",
      "{u'ingredients': [u'570ml/1 pint double cream', u'85g/3oz porridge oats', u'7 tbsp whisky', u'3 tbsp honey', u'450g/1lb raspberries', u'fresh mint'], u'title': u'Cranachan'}\n",
      "{u'ingredients': [u'2 shallots , or 1 small onion', u'1 stalk lemongrass', u'1 tbsp vegetable oil', u'3-4 tsp red Thai curry paste', u'4 boneless and skinless chicken breasts , cut into bite-size pieces', u'1 tbsp fish sauce', u'1 tsp sugar , brown is best', u'4 freeze-dried kaffir lime leaves', u'400ml can coconut milk', u'20g pack fresh coriander'], u'title': u'Thai chicken curry'}\n",
      "{u'ingredients': [u'4-5 medium Jonagold apples, peeled, cored and sliced -inch thick', u'1 tablespoon fresh lemon juice', u'1 tablespoon arrowroot powder', u'1 tablespoon honey', u'1 tablespoon ground cinnamon', u'1 Pecan Tart Crust'], u'title': u'Paleo Apple Tart'}\n",
      "{u'ingredients': [u'6 egg yolks', u'1 1/4 cups white sugar', u'1 1/4 cups mascarpone cheese', u'1 3/4 cups heavy whipping cream', u'2 (12 ounce) packages ladyfingers', u'1/3 cup coffee flavored liqueur', u'&nbsp;', u'1 teaspoon unsweetened cocoa powder, for dusting', u'1 (1 ounce) square semisweet chocolate'], u'title': u'Classic Tiramisu'}\n",
      "{u'ingredients': [u'1/2 cup bacon grease', u'3/4 cup unpopped popcorn kernels', u'1/2 teaspoon seasoned salt, or to taste', u'3 tablespoons bacon bits (optional)', u'1 cup shredded Cheddar cheese (optional)'], u'title': u'Bacon Popcorn'}\n",
      "{u'ingredients': [u'2 cups diced fresh pineapple', u'1 cup diced red pepper', u'1/2 cup chopped cilantro', u'1/4 cup finely chopped red onion', u'3 tablespoons finely chopped jalapeno pepper, stemmed and seeded', u'1 clove garlic, minced', u'Juice of 1 large lime', u'Salt, to taste'], u'title': u'Pineapple Salsa'}\n",
      "{u'ingredients': [u'2 skinless, boneless chicken breast halves', u'1 (1.27 ounce) packet dry fajita seasoning, divided', u'1 tablespoon vegetable oil', u'1 (15 ounce) can black beans, rinsed and drained', u'1 (11 ounce) can Mexican-style corn', u'1/2 cup salsa', u'1 (10 ounce) package mixed salad greens', u'1 onion, chopped', u'1 tomato, cut into wedges'], u'title': u'Chicken Fiesta Salad'}\n",
      "{u'ingredients': [u'1 (10 ounce) package frozen raspberries, thawed', u'2 1/2 cups cranberry juice', u'2 envelopes unflavored gelatin', u'&nbsp;', u'2 liters ginger ale', u'2 liters sparkling apple cider (non-alcoholic)', u'6 gummi snakes candy'], u'title': u'Spooky Halloween Drinks'}\n",
      "{u'ingredients': [u'3 sweet potatoes (about 1 1/2 pounds), peeled, each cut lengthwise into 8 wedges', u'2 tablespoons vegetable oil', u'Kosher salt, freshly ground pepper', u'1/3 cup mayonnaise', u'1/4 teaspoon finely grated lime zest', u'2 teaspoons fresh lime juice', u'Chopped fresh cilantro (for serving)'], u'title': u'Sweet Potato Wedges with Lime Mayo'}\n",
      "{u'ingredients': [u'4 whole Corn Tortillas', u'1 whole Jalapeno, Seeds And Membranes Removed, Finely Diced', u'4 whole Plum Tomatoes, Roughly Chopped', u'1 whole Green Pepper, Roughly Chopped', u'1 whole Red Bell Pepper, Roughly Chopped', u'1 whole Medium Onion, Chopped', u'12 whole Large Eggs', u'1 cups Cotija Cheese, Grated (may Use Cheddar, Monterey Jack, Etc.)', u'1/3 cup Cilantro, Chopped', u'1 Tablespoon Butter', u'1 Tablespoon Olive Oil', u'1/4 cup Half-and-half'], u'title': u'Migas'}\n",
      "{u'ingredients': [u'1 1/2 cups Umbrian lentils or lentils du Puy', u'salt and freshly ground pepper', u'1 bay leaf', u'2 teaspoons extra virgin olive oil, plus more', u'1 onion, cut into 1/2-inch dice', u'1 large carrot, cut into 1/4-inch dice', u'1 celery rib, cut into 1/4-inch dice', u'1 garlic clove, mashed', u'1 tablespoon tomato paste', u'2/3 cup / 160 ml dry red wine', u'2 teaspoons Dijon mustard', u'2 tablespoons butter', u'to serve: chopped tarragon, micro greens or arugula, crumbled goat cheese or a dollop of creme fraiche'], u'title': u'Lentils with Wine-Glazed Vegetables'}\n",
      "{u'ingredients': [u'1 1/2 cups (3 sticks) unsalted butter; softened', u'1 cup granulated sugar', u'1 cup packed brown sugar', u'2 teaspoons pure vanilla extract', u'2 large eggs', u'3 3/4 cup Gold Medal all-purpose flour', u'2 teaspoons baking soda', u'1 teaspoon fine grain sea salt'], u'title': u'Reese&#8217;s Cup Stuffed Chocolate Chip Cookies'}\n",
      "{u'ingredients': [u'1 tbsp + 2 tsp fresh lime juice', u'3/4 tsp honey or agave nectar', u'1/4 tsp ground cumin', u'1/8 tsp salt', u'1 tbsp + 2 tsp extra-virgin olive oil', u'1 lb. jicama, peeled & thinly sliced', u'2 large carrots, grated', u'3 tbsp minced cilantro', u'1/2 jalapeno pepper, seeded & minced'], u'title': u'Jicama & Carrot Slaw Recipe with Honey-Lime Dressing'}\n",
      "{u'ingredients': [u'2 pounds beef stew meat, cut into 1 inch cubes', u'1/4 cup all-purpose flour', u'1/2 teaspoon salt', u'1/2 teaspoon ground black pepper', u'1 clove garlic, minced', u'1 bay leaf', u'1 teaspoon paprika', u'1 teaspoon Worcestershire sauce', u'1 onion, chopped', u'1 1/2 cups beef broth', u'3 potatoes, diced', u'4 carrots, sliced', u'1 stalk celery, chopped'], u'title': u'Slow Cooker Beef Stew I'}\n",
      "{u'ingredients': [u'1/4 cup extra virgin olive oil', u'1 1/2 teaspoons crushed red pepper flakes', u'1/2 teaspoon fine grain sea salt', u'3 medium cloves of garlic, finely chopped', u'1 28-ounce can crushed red tomatoes', u'zest of one lemon'], u'title': u'Five Minute Tomato Sauce'}\n",
      "{u'ingredients': [u'1 tablespoon olive oil', u'8 ounces cremini mushrooms, stems trimmed and sliced 1/4 inch thick', u'2 tablespoons unsalted butter (1/4 stick)', u'1 medium yellow onion, small dice', u'2 medium garlic cloves, finely chopped', u'1 pound ground beef', u'3 tablespoons all-purpose flour', u'1 teaspoon paprika', u'1/4 cup dry white wine', u'4 cups (1 quart) low-sodium beef broth or stock', u'1 1/2 teaspoons kosher salt, plus more as needed', u'1/2 teaspoon freshly ground black pepper, plus more as needed', u'8 ounces dried egg noodles', u'3/4 cup sour cream', u'1 tablespoon finely chopped fresh Italian parsley leaves'], u'title': u'One-Pot Beef Stroganoff with Egg Noodles Recipe'}\n",
      "{u'ingredients': [u'2 lbs of Yukon Gold potatoes (you can leave the peel on if you want), cut into 1-inch pieces', u'3/4 cup sour cream', u'1/4 cup mayonnaise', u'2 teaspoons of mustard (your favorite, yellow, Dijon, stone ground)', u'1/2 cup thinly sliced green onions', u'1/2 cup chopped celery', u'1/4 cup chopped parsley', u'2 dill pickles, chopped into 1/4 in cubes (about 3/4 cup)', u'6 slices of bacon, cooked* and finely chopped', u'Coarse salt', u'Freshly ground pepper\\n'], u'title': u'Potato Salad'}\n",
      "{u'ingredients': [u'16 oz. Real California Milk Low Fat Cottage Cheese', u'1 Tb. honey', u'2 tsp. vanilla extract', u'1 cup shredded coconut'], u'title': u'Toasted Coconut Breakfast Spread'}\n",
      "{u'ingredients': [u'8 ounces / 225 g cooked, leftover pasta', u'2 eggs', u'fine grain sea salt', u'1 tablespoon olive oil', u'1 tablespoon unsalted butter', u'3 big handfuls of sliced asparagus, and/or pea shoots, or tiny broccoli trees, or shredded greens - anything quick cooking and fresh', u'chopped avocado', u'chopped herbs'], u'title': u'Spring Pasta'}\n",
      "{u'ingredients': [u'1 pound skinless, boneless chicken breast, diced', u'1 (1.27 ounce) packet fajita seasoning', u'1 tablespoon vegetable oil', u'2 green bell peppers, chopped', u'2 red bell peppers, chopped', u'1 onion, chopped', u'10 (10 inch) flour tortillas', u'1 (8 ounce) package shredded Cheddar cheese', u'1 tablespoon bacon bits', u'1 (8 ounce) package shredded Monterey Jack cheese'], u'title': u'Chicken Quesadillas'}\n",
      "{u'ingredients': [u'225g plain flour', u'2 tsp baking powder', u' tsp salt', u'30g caster sugar', u'55g butter', u'55g raisins or sultanas (optional)', u'150ml milk'], u'title': u'Scones'}\n",
      "{u'ingredients': [u'135g/4oz plain flour', u'1 tsp baking powder', u' tsp salt', u'2 tbsp caster sugar', u'130ml/4fl oz milk', u'1 large egg', u'2 tbsp melted butterolive oil', u' Maple syrup', u' Butter'], u'title': u'Fluffy American pancakes'}\n",
      "{u'ingredients': [u'6 ounces semi-sweet chocolate chips', u'&frac14; cup plus 2 tablespoons unsalted butter', u'1 teaspoon vanilla extract', u'&frac12; cup sugar', u'2 eggs', u'1&frac12; cups Gold Medal al purpose flour', u'2 tablespoons cocoa powder', u'1 teaspoon ground cinnamon', u'&frac12; teaspoon ground chipotle chile powder', u'&frac34; teaspoon baking powder', u'&frac14; teaspoon salt', u'powdered sugar for rolling'], u'title': u'Cinnamon-Chipotle Crinkles'}\n",
      "{u'ingredients': [u'1 cup uncooked basmati rice', u'1 1/2 cups water', u'3 3/4 teaspoons kosher salt', u'6 medium poblano peppers', u'1 cup cooked black beans', u'1 teaspoon toasted cumin seeds', u'3/4 cup sour cream', u'3/4 cup crumbled Cotija cheese (about 4 ounces)', u'1/2 cup chopped cilantro (about 1/2 bunch)', u'1 cup chopped fresh tomatoes (about 2 small', u')', u'2/3 cup chopped scallions (about 1/2 bunch)', u'1/2 teaspoon freshly ground black pepper'], u'title': u'Stuffed Poblanos with Black Beans and Cheese Recipe'}\n",
      "{u'ingredients': [u'12 ounces (two small containers) small berries, like blueberries and raspberries', u'2 teaspoons sugar (preferably turbinado sugar), optional', u'Dash of sea salt', u'2 tablespoons + &frac14; cup honey (to taste)', u'2 cups whole Greek yogurt (I used Fage)', u'&frac12; small lemon, juiced'], u'title': u'All Recipes'}\n",
      "{u'ingredients': [u'1 cup Medjool dates , pits removed', u'2 cups walnuts', u' cup chocolate drops', u'1 tablespoon vanilla extract', u' teaspoon celtic sea salt', u'1 teaspoon water (if necessary)'], u'title': u'Chocolate Power Bar Balls'}\n",
      "{u'ingredients': [u'butter for greasing pan', u'2 cups / 10.5 oz / 300 g dried cherries', u'scant cup / 200 ml / 7 fl oz port wine', u'1/2 cup / 2 oz / 55g / whole wheat pastry flour', u'1/3 cup / 1.5 oz / 40 g unsweetened cocoa powder', u'1/2 teaspoon fine grain sea salt', u'2 teaspoons baking powder', u'10.5 oz / 300g 55% dark chocolate chips/chunks', u'5 1/2 tablespoons / 2 3/4 oz / 80g unsalted butter', u'2 cups / 10.5 oz / sifted muscovado sugar', u'4 large eggs', u'scant 1/2 cup / 3.5 oz / 100 g creme fraiche or sour cream', u'1 cup / 5 oz / 145 g chocolate chips/ chunks', u'more cocoa powder, for dusting'], u'title': u'Chocolate Cherry Brownies'}\n",
      "{u'ingredients': [u'2 tablespoons butter', u'1 cinnamon stick', u'2 cloves', u'1 teaspoon cumin, toasted and ground', u'1 teaspoon coriander, toasted and ground', u'2 cups tomato (fresh or canned), pureed', u'1 tablespoon tomato paste', u'1/2 teaspoon cayenne pepper or to taste', u'1 batch tandoori chicken', u'1 tablespoon honey', u'1 tablespoon dried fenugreek leaves', u'2 tablespoons cashew or almond butter (optional)', u'1/4 cup heavy cream', u'1 teaspoon garam masala', u'salt to taste', u'butter (optional for garnish)', u'cilantro (optional for garnish), chopped\\n'], u'title': u'Butter Chicken (Murgh Makhani)'}\n",
      "{u'ingredients': [u'croutons', u'5-6 ounce chunk of artisan whole wheat bread, torn into little pieces (less than 1-inch), roughly 3 cups total', u'1/4 cup butter or olive oil (I like 1/2 and 1/2)', u'1 1/2 tablespoons whole grain mustard', u'1/4 teaspoon fine grain sea salt', u'soup:', u'2 tablespoons unsalted butter or olive oil', u'1 shallot, chopped', u'1 medium onion, chopped', u'1 large potato, peeled and cut into 1/4-inch cubes (1 1/2 cups)', u'2 cloves garlic, finely chopped', u'3 1/2 cups light, good-tasting vegetable broth', u'1 large head of broccoli (12 ounces or 3/4 lb.), cut into small florets', u'2/3 cup freshly grated aged Cheddar, plus more for topping', u'1 - 3 teaspoons whole grain mustard, to taste', u'smoked paprika, more olive oil, creme fraiche (optional)'], u'title': u'Broccoli Cheddar Soup'}\n",
      "{u'ingredients': [u'Leaves from one bunch of celery', u'flaky sea salt (see head notes)'], u'title': u'Homemade Celery Salt'}\n",
      "{u'ingredients': [u'1 cup walnuts', u'2 tablespoons olive oil', u'&frac12; cup unsalted butter, softened', u'1-1/4 cup sugar', u'&frac14; cup maple syrup', u'1 egg', u'&frac12; teaspoon vanilla', u'1-1/4 cups Gold Medal all purpose flour', u'&frac34; teaspoon baking soda', u'&frac12; teaspoon baking powder', u'&frac12; teaspoon kosher salt'], u'title': u'Maple-Walnut Butter Cookies'}\n",
      "{u'ingredients': [u'5 3/4 cups bottled clam juice ', u'5 pounds littleneck clams ', u'1/4 cup flour ', u'3 tablespoons canola oil', u'3 shallots, sliced (1/4 inch) ', u'2 ribs diced (1/4 inch) celery ', u'2 heads garlic, halved ', u'1 tomato, quartered ', u'1 bunch parsley ', u'1/4 cup tomato paste ', u'1 cup white wine ', u'2 tablespoons butter ', u'3 sprigs thyme ', u'Lemon juice', u'1/4 cup ', u'2 tablespoons diced (1/8 inch) shallot ', u'1 cup fresh corn kernels ', u'1/4 cup diced (1/4 inch) celery ', u'Clams, reserved from making Clam Chowder Sauce ', u'1/4 cup green celery leaves ', u'12 cherry tomatoes, halved ', u'2 tablespoons cold butter ', u'Salt', u'Celery leaves ', u'Olive oil'], u'title': u'Manhattan Clam Chowder'}\n",
      "{u'ingredients': [u'400g can chickpeas , drained', u'zest 1 lemon , plus juice ', u'1 tsp ground cumin', u'small bunch coriander , chopped', u'1 egg', u'100g fresh breadcrumbs', u'1 medium red onion ,  diced,  sliced', u'1 tbsp olive oil', u'4 small wholemeal buns', u'1 large tomato , sliced,  cucumber, sliced and chilli sauce, to serve'], u'title': u'Chickpea &amp; coriander burgers'}\n",
      "{u'ingredients': [u'16 oz sliced mushrooms', u'2 tablespoons olive oil, divided', u'1 medium red onion, peeled and sliced into 1/4 inch rings', u'Salt and black pepper, to taste', u'2 cloves garlic, minced', u'1 large bunch kale, coarsely chopped, ribs removed', u\"6 Old El Paso Stand 'N Stuff Soft Flour Tortillas\", u'4 oz goat cheese'], u'title': u'Roasted Mushroom, Kale, and Goat Cheese Tacos'}\n",
      "{u'ingredients': [u' yellow onion, chopped', u'2 celery stalks, diced', u'2 carrots, chopped', u'3 garlic cloves, minced', u'2 cups brown lentils', u'1&frac12; tsp ground cumin', u'1 tsp ground oregano', u'1 chipotle pepper, seeded & minced', u'7 cups vegetable broth', u'1 (14 oz.) can petite diced tomatoes', u'1 tsp adobo sauce (from chipotle can)', u'1 California avocado, chopped', u'2 tsp lime juice', u' cup minced flat-leaf parsley'], u'title': u'Slow Cooker Chipotle Lentil Soup with Avocado'}\n",
      "{u'ingredients': [u'2 lbs Brussels Sprouts', u'6 oz. thick cut bacon, chopped', u'1 shallot, peeled and sliced', u'12 oz. bottle beer, something light and crisp', u'1/2 tsp. salt', u'1/4 tsp. pepper', u'Pinch crushed red pepper'], u'title': u'Brussels Sprouts with Bacon and Beer'}\n",
      "{u'ingredients': [u'1 (1 lb.) package Wright Brand Naturally Smoked Applewood Bacon, cut into 1/2-inch strips', u'1 yellow onion, diced', u'1 red bell pepper, seeds removed and diced', u'3 cloves garlic, minced', u'12 large eggs', u'1 cup milk', u\"3 cups frozen diced potatoes (you don't have to thaw or cook the potatoes)\", u'2 cups shredded cheddar cheese, divided', u'1 1/2 teaspoons salt', u'1/2 teaspoon black pepper', u'2 green onions, chopped'], u'title': u'Bacon, Potato, and Egg Casserole'}\n",
      "{u'ingredients': [u'1 medium butternut squash', u'1 tablespoon olive oil', u'&frac12; onion, chopped', u'2 garlic cloves, minced', u'1 tablespoon hot Madras curry powder', u'4 cups reduced sodium vegetable stock', u'&frac14; cup loosely packed fresh cilantro, chopped (for garnish)', u'&#8531; cup cashews', u'&#8531; cup unsweetened almond milk (or other non-dairy milk)', u'1 tablespoon lime juice', u'&frac12; teaspoon olive oil', u'1 generous pinch sea salt'], u'title': u'Curried Butternut Squash Bisque with Cashew Cream (Vegan)'}\n",
      "{u'ingredients': [u'2  red peppers, deseeded and sliced', u'2  yellow peppers, deseeded and sliced', u'  extra virgin olive oil', u'  sea salt', u'  freshly ground black pepper', u'2  red onions, peeled and finely sliced', u'2 cloves garlic, peeled and grated', u'2 handfuls fresh flat-leaf parsley, leaves finely chopped, stalks reserved', u'2 tablespoons red wine vinegar or balsamic vinegar', u'2 handfuls Parmesan cheese, grated', u'2 heaped tablespoons mascarpone cheese or crme frache, optional', u'455 g rigatoni, penne or spaghetti'], u'title': u'Pasta peperonata'}\n",
      "{u'ingredients': [u'6 garlic cloves', u'2 rosemary sprigs (I used Thyme)', u'1/2 cup butter', u'2 pounds small potatoes', u'2 pounds small purple potatoes', u'2 pounds small red potatoes', u'salt and pepper to taste'], u'title': u'Garlic Roasted Potatoes'}\n",
      "{u'ingredients': [u'3 Hass avocados', u'1 ripe mango', u'1/3 cup chopped fresh cilantro', u'1/3 cup chopped red onion', u'1 serrano chile pepper, seeded and finely chopped', u'1 tablespoon fresh lime juice', u'Coarse salt and freshly ground pepper, to taste', u'Tortila chips, for serving'], u'title': u'Mango & Cilantro Guacamole'}\n",
      "{u'ingredients': [u'1 Seville orange', u'a little melted butter , for greasing', u'100g plain chocolate , broken into pieces', u'3 eggs', u'280g caster sugar', u'240ml sunflower oil', u'25g cocoa powder', u'250g plain flour', u'1 tsp baking powder', u'orange candied peel , to decorate', u'200g plain chocolate , broken into pieces', u'225ml double cream'], u'title': u'Dark chocolate &amp; orange cake'}\n",
      "{u'ingredients': [u'1/2 cup all-purpose flour', u'1/4 teaspoon paprika', u'1/4 teaspoon cayenne pepper', u'1/4 teaspoon salt', u'10 chicken wings', u'oil for deep frying', u'1/4 cup butter', u'1/4 cup hot sauce', u'1 dash ground black pepper', u'1 dash garlic powder'], u'title': u'Restaurant-Style Buffalo Chicken Wings'}\n",
      "{u'ingredients': [u'1 cup quinoa', u'2 cups water', u'1/2 teaspoon fine grain sea salt', u'1 can garbanzo beans, or dried equivalent', u'1/2 cup cilantro, chopped', u'1/2 red onion, chopped', u'Tahini Dressing:', u'1 garlic clove, smashed and chopped', u'1/4 cup tahini', u'Zest of one lemon', u'scant 1/4 cup fresh lemon juice', u'2 tablespoons olive oil', u'2 tablespoons hot water', u'scant 1/2 teaspoon fine grain sea salt'], u'title': u'Lemon-scented Quinoa Salad'}\n",
      "{u'ingredients': [u'1140ml/2 pints whole milk', u'6 free-range eggs', u'50g/2oz caster sugar', u'1 vanilla pod', u'20 fresh cherries, stones removed and halved ', u'200ml/7fl oz brandy', u', for dusting cocoa powder'], u'title': u'Egg nog'}\n",
      "{u'ingredients': [u'1/4 cup olive oil', u'1 cup frozen white pearl onions, thawed', u'4 garlic cloves, finely chopped', u'1 tablespoon chopped fresh sage', u'1 small bunch kale, center ribs and stems removed, leaves chopped', u'Kosher salt, freshly ground pepper', u'1/4 cup all-purpose flour', u'3 cups low-sodium chicken broth', u'1/2 small butternut squash, peeled, cut into 1/2\" pieces (about 1 1/2 cups)', u'1/2 rotisserie chicken, meat torn into bite-size pieces (about 1 1/2 cups)', u'1 sheet frozen puff pastry (such as Dufour or Pepperidge Farm), thawed', u'1 large egg'], u'title': u'Skillet Chicken Pot Pie with Butternut Squash'}\n",
      "{u'ingredients': [u'2 cups all-purpose flour', u'1 1/2 teaspoons baking powder', u'1 teaspoon baking soda', u'1/2 teaspoon salt', u'1 cup granulated sugar', u'1/2 cup butter, at room temperature', u'2 large eggs', u'1 cup sour cream', u'1 teaspoon vanilla extract', u'1 cup chocolate chips', u'Cinnamon Sugar Topping/Filling:', u'1/4 cup granulated sugar', u'3 tablespoons brown sugar', u'1 1/2 teaspoons cinnamon'], u'title': u'Chocolate Chip Coffee Cake'}\n",
      "{u'ingredients': [u'1 lb of very fresh fish fillets - (Good fish for tacos are firm fish like swordfish or halibut)*', u'Salt and pepper', u'Olive oil', u'1 doz corn tortillas (3 tortillas per person)', u'Vegetable oil or butter (optional, depending on how you heat your tortillas)', u'Salsa - (see Mango Salsa Recipe)', u'1 ripe Avocado', u'Cabbage (or iceberg lettuce)', u'Cider vinegar', u'Salt\\n'], u'title': u'Fish Tacos'}\n",
      "{u'ingredients': [u'3 red peppers', u'2 aubergines', u'8 tbsp olive oil , plus a little for greasing', u' quantity tomato sauce (see below)', u'300g fresh pack lasagne sheets', u' quantity white sauce (see below)', u'125g ball mozzarella', u'handful cherry tomatoes , halved'], u'title': u'Roasted vegetable lasagne'}\n",
      "{u'ingredients': [u'3/4 cup water, divided', u'3 (.25 ounce) packages unflavored gelatin', u'2/3 cup light corn syrup', u'2 cups white sugar', u'1 tablespoon *vanilla extract', u'1/4 cup cornstarch'], u'title': u'Homemade Vanilla Marshmallows'}\n",
      "{u'ingredients': [u'15 blueberries', u'2 lemons, juiced', u'&frac12; teaspoon agave nectar (or more, to taste)', u'1&frac12; ounces vodka (I used Titos) or gin (Hendricks suggested)', u'3 sprigs of fresh lavender and &#8532; cup cold water OR &#8532; cup lavender tea made with dried lavender (see instructions)', u'Plenty of ice'], u'title': u'All Recipes'}\n",
      "{u'ingredients': [u'10 ounces pizza dough', u'10 sundried tomato halves', u'1 tablespoon olive oil', u'1 tablespoon minced garlic', u'1 lemon, juiced', u'1 zucchini, very thinly sliced', u'&frac14; red onion, very thinly sliced', u'2 ounces soft goat cheese (chevre), crumbled', u'2 ounces shredded mozzarella', u'crushed red pepper flakes'], u'title': u'Sundried Tomato and Zucchini Pizza with Goat Cheese #SundaySupper'}\n",
      "{u'ingredients': [u'1 pound lean ground beef', u'1 (1.25 ounce) package taco seasoning mix', u'1 (16 ounce) can chili beans', u'1 (16 ounce) bottle French dressing', u'1 head iceberg lettuce', u'1 (14.5 ounce) package tortilla chips', u'2 cups shredded Cheddar cheese', u'1 cup chopped tomatoes', u'4 tablespoons sour cream', u'1/2 cup prepared salsa'], u'title': u'Taco Salad I'}\n",
      "{u'ingredients': [u'sliced pound cake (store bought or homemade)', u'1 batch of microwave lemon curd', u'1 cup diced fresh strawberries'], u'title': u'Simple Lemon-Strawberry Parfaits'}\n",
      "{u'ingredients': [u'Tortilla chips, enough to fill your skillet (about 7 cups)', u'1 cup shredded cheddar cheese', u'1 cup shredded pepper jack cheese', u'1 cup black beans from can, rinsed and drained', u'1/3 cup Queso Fresco or Cotija cheese', u'Optional Toppings:', u'Diced tomatoes', u'Black olives', u'Chopped avocado', u'Chopped cilantro', u'Jalapeo, cut into slices', u'Chopped green onion', u'Sour cream'], u'title': u'Three Cheese Skillet Nachos'}\n",
      "{u'ingredients': [u'1 cup all-purpose flour', u'1/4 cup milk', u'2 eggs', u'1/2 teaspoon ground nutmeg', u'1 pinch freshly ground white pepper', u'1/2 teaspoon salt', u'1 gallon hot water', u'2 tablespoons butter', u'2 tablespoons chopped fresh parsley'], u'title': u'German Spaetzle Dumplings'}\n",
      "{u'ingredients': [u'1 whole Recipe For Pizza Crust (mine Makes Two Crusts)', u'2 whole Boneless, Skinless Chicken Breasts', u'1/2 cup Barbecue Sauce', u'Olive Oil, For Drizzling', u'Salt For Sprinkling', u'16 ounces, weight Fresh Mozzarella Cheese, Sliced Thinly', u'1/2 whole Red Onion, Cut In Half And Sliced Very Thin', u'Chopped Cilantro, to taste', u'1 teaspoon Instant Or Active Dry Yeast', u'1-1/2 cup Warm Water', u'4 cups All-purpose Flour', u'1 teaspoon Kosher Salt', u'1/3 cup Olive Oil'], u'title': u'CPK\\u2019s BBQ Chicken Pizza'}\n",
      "{u'ingredients': [u'1 cup bourbon', u'1 cup apple cider', u'&frac14; cup apricot liqueur', u'&frac14; cup fresh lemon juice', u'1 cup ginger beer'], u'title': u'Northern Spy {Cider, Ginger, and Bourbon Cocktail}'}\n",
      "{u'ingredients': [u'2 tablespoons olive oil', u'4 cloves garlic, minced', u'1 small onion, minced', u'1 carrot, peeled and finely chopped', u'1 package (6 ounces) Jones Dairy Farm Canadian Bacon, cut into &#8539;-inch dice', u'1 can (14.5 ounces) whole peeled plum tomatoes (undrained)', u'1 can (14.5 ounces) cannellini beans, rinsed and drained', u'1 sprig fresh rosemary, chopped', u'2 springs fresh thyme, chopped', u'1 pinch crushed red pepper flakes', u'2 tablespoons Gold Medal all purpose flour', u'2 cups chicken broth', u'4 cups baby spinach', u'1 prepared whole wheat pie crust, thawed if frozen', u'1 egg yolk', u'coarse sea salt and cracked black pepper'], u'title': u'Canadian Bacon and White Bean Pot Pie'}\n",
      "{u'ingredients': [u'8 slices Thick-cut Bacon, Cooked Till Slightly Crisp', u'3 slices Marbled Rye Bread, Toasted', u'3 Tablespoons Mayonnaise', u'2 teaspoons Adobo Sauce From Chipotle Peppers, More To Taste', u'2 whole Roma Tomatoes, Sliced Thick', u'4 whole Green Leaf Lettuce Leaves, Washed', u'Salt And Pepper', u'Optional Ingredients: Cheese Slices, Avocado, Red Onion Slices'], u'title': u'Monster BLT'}\n",
      "{u'ingredients': [u'2 chickens (about 3 1/2 pounds each), backbones cut out and each chicken cut into 12 pieces (see cooks note, below)', u'1/4 cup extra-virgin olive oil', u'1 1/2 tablespoons chopped thyme ', u'1 tablespoon chopped rosemary', u'1 tablespoon fine sea salt', u'1/2 to 1 teaspoon hot red-pepper flakes', u'10 garlic cloves, peeled', u'2 (1/4-inch-thick) slices pancetta, cut into 1-inch pieces', u'1 cup dry white wine', u'24 oil-cured black olives'], u'title': u'Roast Chicken with Pancetta and Olives'}\n",
      "{u'ingredients': [u'olive oil', u'2  raw iberico chorizo sausages, approximately 250g in total, thickly sliced', u'300 g higher-welfare pork belly, skin removed, cut into 1cm pieces', u'1  green pepper, deseeded and roughly chopped', u'1  red pepper, deseeded and roughly chopped', u'5 cloves garlic, peeled and roughly chopped', u'1  onion, peeled and roughly chopped', u'1 small bunch fresh flat-leaf parsley, leaves picked and roughly chopped, stalks finely chopped', u'  sea salt', u'  freshly ground black pepper', u'1 good pinch saffron', u'400 g clams or mussels, from ', u', ask your fishmonger, scrubbed clean and debearded', u'300 g paella rice', u'200 g jarred red peppers in oil, drained and torn into pieces', u'400 g tinned chopped tomatoes', u'1 litre organic chicken or vegetable stock', u'12 large prawns, from ', u', ask your fishmonger, shells on', u'150 g squid, from ', u', ask your fishmonger, cleaned and finely sliced', u'150 g green beans, sliced very thinly at an angle', u'1  lemon, cut into wedges'], u'title': u'My favourite paella'}\n",
      "{u'ingredients': [u'1 1/2 cup of all purpose flour', u'1 scant teaspoon Kosher salt', u'Pinch of freshly ground black pepper', u'3 eggs, beaten', u'1 1/2 cup milk', u'2 Tbsp melted butter', u'1 Tbsp vegetable oil', u'1 lb of bangers (an English sausage made with pork and breadcrumbs), or good quality pork or beef sausage links (in casings)\\n'], u'title': u'Classic English Toad-in-the-Hole'}\n",
      "{u'ingredients': [u'5 tablespoons butter', u'1-1/2 cups firmly packed dark brown sugar', u'1 egg', u'1 egg yolk', u'1-1/2 teaspoons vanilla', u'&frac12; cup pus 2 tablespoons white whole wheat flour', u'&frac12; cup bread flour', u'&frac14; teaspoon salt', u'1 banana, mashed', u'&frac14; cup toffee baking chips (optional)'], u'title': u'Brown Butter Banana Blondies'}\n",
      "{u'ingredients': [u'6 small onions', u'2 tablespoons plus 1 teaspoon olive oil, divided', u'&frac14; cup quinoa, rinsed well', u'&frac14; cup water', u'1 carrot, peeled and finely chopped', u'2 tablespoons pine nuts, toasted', u'2 ounces gorgonzola, crumbled', u'2 tablespoons chopped fresh parsley'], u'title': u'Roast Onions w/Gorgonzola + Pine Nuts #SundaySupper'}\n",
      "{u'ingredients': [u'1 egg white', u'&frac14; cup honey', u'pinch salt', u'1 stick unsalted butter, cut into 16 pieces (room temperature)', u'&frac14; teaspoon vanilla extract', u'2 bags English breakfast tea'], u'title': u'Tea and Honey Buttercream'}\n"
     ]
    }
   ],
   "source": [
    "cursor = db.recipes.find({}, {'title': 1, 'ingredients': 1, '_id' : 0})\n",
    "for doc in cursor:\n",
    "    print doc\n",
    "#     print doc['title']\n",
    "#     print \"; \".join(doc['ingredients'])"
   ]
  },
  {
   "cell_type": "code",
   "execution_count": 4,
   "metadata": {
    "collapsed": true
   },
   "outputs": [],
   "source": [
    "cursor = db.recipes.find({}, {'title': 1, 'ingredients': 1, '_id' : 0})\n",
    "data = pd.DataFrame(list(cursor))"
   ]
  },
  {
   "cell_type": "code",
   "execution_count": 7,
   "metadata": {
    "collapsed": false
   },
   "outputs": [
    {
     "data": {
      "text/html": [
       "<div>\n",
       "<table border=\"1\" class=\"dataframe\">\n",
       "  <thead>\n",
       "    <tr style=\"text-align: right;\">\n",
       "      <th></th>\n",
       "      <th>ingredients</th>\n",
       "      <th>title</th>\n",
       "    </tr>\n",
       "  </thead>\n",
       "  <tbody>\n",
       "    <tr>\n",
       "      <th>0</th>\n",
       "      <td>[1 small shallot, chopped, 2 tablespoons chopp...</td>\n",
       "      <td>Basmati Rice with Summer Vegetable Salad</td>\n",
       "    </tr>\n",
       "    <tr>\n",
       "      <th>1</th>\n",
       "      <td>[2 pounds new potatoes, halved, 1 lemon, thinl...</td>\n",
       "      <td>Roasted Potatoes and Lemon With Dill</td>\n",
       "    </tr>\n",
       "    <tr>\n",
       "      <th>2</th>\n",
       "      <td>[1/2 red onion, thinly sliced, About 1 1/2 cup...</td>\n",
       "      <td>Fish Tacos</td>\n",
       "    </tr>\n",
       "    <tr>\n",
       "      <th>3</th>\n",
       "      <td>[6 tablespoons Asian fish sauce, 6 tablespoons...</td>\n",
       "      <td>cold rice noodles with peanut-lime chicken</td>\n",
       "    </tr>\n",
       "    <tr>\n",
       "      <th>4</th>\n",
       "      <td>[1 recipe pastry for a 9 inch double crust pie...</td>\n",
       "      <td>Apple Pie by Grandma Ople</td>\n",
       "    </tr>\n",
       "  </tbody>\n",
       "</table>\n",
       "</div>"
      ],
      "text/plain": [
       "                                         ingredients  \\\n",
       "0  [1 small shallot, chopped, 2 tablespoons chopp...   \n",
       "1  [2 pounds new potatoes, halved, 1 lemon, thinl...   \n",
       "2  [1/2 red onion, thinly sliced, About 1 1/2 cup...   \n",
       "3  [6 tablespoons Asian fish sauce, 6 tablespoons...   \n",
       "4  [1 recipe pastry for a 9 inch double crust pie...   \n",
       "\n",
       "                                        title  \n",
       "0    Basmati Rice with Summer Vegetable Salad  \n",
       "1        Roasted Potatoes and Lemon With Dill  \n",
       "2                                  Fish Tacos  \n",
       "3  cold rice noodles with peanut-lime chicken  \n",
       "4                   Apple Pie by Grandma Ople  "
      ]
     },
     "execution_count": 7,
     "metadata": {},
     "output_type": "execute_result"
    }
   ],
   "source": [
    "data.head()"
   ]
  },
  {
   "cell_type": "code",
   "execution_count": 5,
   "metadata": {
    "collapsed": true
   },
   "outputs": [],
   "source": [
    "data['ingredients'] = data['ingredients'].apply(lambda x: \" \".join(x))"
   ]
  },
  {
   "cell_type": "code",
   "execution_count": 9,
   "metadata": {
    "collapsed": false
   },
   "outputs": [
    {
     "data": {
      "text/plain": [
       "0     1 small shallot, chopped 2 tablespoons chopped...\n",
       "1     2 pounds new potatoes, halved 1 lemon, thinly ...\n",
       "2     1/2 red onion, thinly sliced About 1 1/2 cups ...\n",
       "3     6 tablespoons Asian fish sauce 6 tablespoons b...\n",
       "4     1 recipe pastry for a 9 inch double crust pie ...\n",
       "5     1 package 1 package 1 cup 1 cup 1 whole 1 whol...\n",
       "6     1 1/4 cups all-purpose flour 1/4 teaspoon salt...\n",
       "7     2 tablespoons olive oil 1 large yellow onion, ...\n",
       "8     1 15- to 15 1/2-ounce can chickpeas (garbanzo ...\n",
       "9     1 cup Almond Breeze Unsweetened Almondmilk Coc...\n",
       "10    100g pancetta 50g pecorino cheese 50g Parmesan...\n",
       "11     cups  cups  cups  cups  teaspoons  teaspoons ...\n",
       "12    FOR THE CAKE: 1 cup Prunes 1 cup Sugar 3 whole...\n",
       "13    1 1/2 pounds cherry tomatoes or other small to...\n",
       "14    1 whole 1 whole 2 cloves 2 cloves 2 cans 2 can...\n",
       "15    2 cups cabbage, finely shredded 1 cup leeks, w...\n",
       "16    1 pound fresh asparagus spears, trimmed 1 tabl...\n",
       "17    2 tsp olive oil 1 onion , finely chopped 1 tbs...\n",
       "18    1 cup diced seedless cucumber 1 cup diced mang...\n",
       "19     teaspoon cumin seeds 1 teaspoon fennel seeds ...\n",
       "20    570ml/1 pint double cream 85g/3oz porridge oat...\n",
       "21    2 shallots , or 1 small onion 1 stalk lemongra...\n",
       "22    4-5 medium Jonagold apples, peeled, cored and ...\n",
       "23    6 egg yolks 1 1/4 cups white sugar 1 1/4 cups ...\n",
       "24    1/2 cup bacon grease 3/4 cup unpopped popcorn ...\n",
       "25    2 cups diced fresh pineapple 1 cup diced red p...\n",
       "26    2 skinless, boneless chicken breast halves 1 (...\n",
       "27    1 (10 ounce) package frozen raspberries, thawe...\n",
       "28    3 sweet potatoes (about 1 1/2 pounds), peeled,...\n",
       "29    4 whole Corn Tortillas 1 whole Jalapeno, Seeds...\n",
       "                            ...                        \n",
       "56    1 (1 lb.) package Wright Brand Naturally Smoke...\n",
       "57    1 medium butternut squash 1 tablespoon olive o...\n",
       "58    2  red peppers, deseeded and sliced 2  yellow ...\n",
       "59    6 garlic cloves 2 rosemary sprigs (I used Thym...\n",
       "60    3 Hass avocados 1 ripe mango 1/3 cup chopped f...\n",
       "61    1 Seville orange a little melted butter , for ...\n",
       "62    1/2 cup all-purpose flour 1/4 teaspoon paprika...\n",
       "63    1 cup quinoa 2 cups water 1/2 teaspoon fine gr...\n",
       "64    1140ml/2 pints whole milk 6 free-range eggs 50...\n",
       "65    1/4 cup olive oil 1 cup frozen white pearl oni...\n",
       "66    2 cups all-purpose flour 1 1/2 teaspoons bakin...\n",
       "67    1 lb of very fresh fish fillets - (Good fish f...\n",
       "68    3 red peppers 2 aubergines 8 tbsp olive oil , ...\n",
       "69    3/4 cup water, divided 3 (.25 ounce) packages ...\n",
       "70    15 blueberries 2 lemons, juiced &frac12; teasp...\n",
       "71    10 ounces pizza dough 10 sundried tomato halve...\n",
       "72    1 pound lean ground beef 1 (1.25 ounce) packag...\n",
       "73    sliced pound cake (store bought or homemade) 1...\n",
       "74    Tortilla chips, enough to fill your skillet (a...\n",
       "75    1 cup all-purpose flour 1/4 cup milk 2 eggs 1/...\n",
       "76    1 whole Recipe For Pizza Crust (mine Makes Two...\n",
       "77    1 cup bourbon 1 cup apple cider &frac14; cup a...\n",
       "78    2 tablespoons olive oil 4 cloves garlic, mince...\n",
       "79    8 slices Thick-cut Bacon, Cooked Till Slightly...\n",
       "80    2 chickens (about 3 1/2 pounds each), backbone...\n",
       "81    olive oil 2  raw iberico chorizo sausages, app...\n",
       "82    1 1/2 cup of all purpose flour 1 scant teaspoo...\n",
       "83    5 tablespoons butter 1-1/2 cups firmly packed ...\n",
       "84    6 small onions 2 tablespoons plus 1 teaspoon o...\n",
       "85    1 egg white &frac14; cup honey pinch salt 1 st...\n",
       "Name: ingredients, dtype: object"
      ]
     },
     "execution_count": 9,
     "metadata": {},
     "output_type": "execute_result"
    }
   ],
   "source": [
    "data['ingredients']"
   ]
  },
  {
   "cell_type": "code",
   "execution_count": 6,
   "metadata": {
    "collapsed": true
   },
   "outputs": [],
   "source": [
    "documents = data['ingredients'].values"
   ]
  },
  {
   "cell_type": "code",
   "execution_count": 11,
   "metadata": {
    "collapsed": false
   },
   "outputs": [
    {
     "data": {
      "text/plain": [
       "array([ u'1 small shallot, chopped 2 tablespoons chopped flat-leaf parsley 2 tablespoons red wine vinegar 2 teaspoons fresh thyme leaves Kosher salt, freshly ground pepper 1/3 cup extra-virgin olive oil 2 cups cooked basmati rice, cooled 2 cups bite-size pieces assorted vegetables (such as radishes, tomatoes, peas, summer squash) or carrot ribbons 3/4 cup torn mixed leafy greens, sprouts, and herbs 1/3 cup chopped red, yellow, or white onion or scallions 2 tablespoons toasted pine nuts (optional)',\n",
       "       u'2 pounds new potatoes, halved 1 lemon, thinly sliced 2 tablespoons olive oil 2 tablespoons kosher salt and black pepper\\n'], dtype=object)"
      ]
     },
     "execution_count": 11,
     "metadata": {},
     "output_type": "execute_result"
    }
   ],
   "source": [
    "documents[:2]"
   ]
  },
  {
   "cell_type": "code",
   "execution_count": 23,
   "metadata": {
    "collapsed": true
   },
   "outputs": [],
   "source": [
    "stoplist = set(stopwords.words('english'))"
   ]
  },
  {
   "cell_type": "code",
   "execution_count": 8,
   "metadata": {
    "collapsed": false
   },
   "outputs": [],
   "source": [
    "texts = [[word for word in document.lower().split() if word not in stoplist] for document in documents]"
   ]
  },
  {
   "cell_type": "code",
   "execution_count": 14,
   "metadata": {
    "collapsed": false
   },
   "outputs": [
    {
     "data": {
      "text/plain": [
       "[[u'1',\n",
       "  u'small',\n",
       "  u'shallot,',\n",
       "  u'chopped',\n",
       "  u'2',\n",
       "  u'tablespoons',\n",
       "  u'chopped',\n",
       "  u'flat-leaf',\n",
       "  u'parsley',\n",
       "  u'2',\n",
       "  u'tablespoons',\n",
       "  u'red',\n",
       "  u'wine',\n",
       "  u'vinegar',\n",
       "  u'2',\n",
       "  u'teaspoons',\n",
       "  u'fresh',\n",
       "  u'thyme',\n",
       "  u'leaves',\n",
       "  u'kosher',\n",
       "  u'salt,',\n",
       "  u'freshly',\n",
       "  u'ground',\n",
       "  u'pepper',\n",
       "  u'1/3',\n",
       "  u'cup',\n",
       "  u'extra-virgin',\n",
       "  u'olive',\n",
       "  u'oil',\n",
       "  u'2',\n",
       "  u'cups',\n",
       "  u'cooked',\n",
       "  u'basmati',\n",
       "  u'rice,',\n",
       "  u'cooled',\n",
       "  u'2',\n",
       "  u'cups',\n",
       "  u'bite-size',\n",
       "  u'pieces',\n",
       "  u'assorted',\n",
       "  u'vegetables',\n",
       "  u'(such',\n",
       "  u'radishes,',\n",
       "  u'tomatoes,',\n",
       "  u'peas,',\n",
       "  u'summer',\n",
       "  u'squash)',\n",
       "  u'carrot',\n",
       "  u'ribbons',\n",
       "  u'3/4',\n",
       "  u'cup',\n",
       "  u'torn',\n",
       "  u'mixed',\n",
       "  u'leafy',\n",
       "  u'greens,',\n",
       "  u'sprouts,',\n",
       "  u'herbs',\n",
       "  u'1/3',\n",
       "  u'cup',\n",
       "  u'chopped',\n",
       "  u'red,',\n",
       "  u'yellow,',\n",
       "  u'white',\n",
       "  u'onion',\n",
       "  u'scallions',\n",
       "  u'2',\n",
       "  u'tablespoons',\n",
       "  u'toasted',\n",
       "  u'pine',\n",
       "  u'nuts',\n",
       "  u'(optional)'],\n",
       " [u'2',\n",
       "  u'pounds',\n",
       "  u'new',\n",
       "  u'potatoes,',\n",
       "  u'halved',\n",
       "  u'1',\n",
       "  u'lemon,',\n",
       "  u'thinly',\n",
       "  u'sliced',\n",
       "  u'2',\n",
       "  u'tablespoons',\n",
       "  u'olive',\n",
       "  u'oil',\n",
       "  u'2',\n",
       "  u'tablespoons',\n",
       "  u'kosher',\n",
       "  u'salt',\n",
       "  u'black',\n",
       "  u'pepper']]"
      ]
     },
     "execution_count": 14,
     "metadata": {},
     "output_type": "execute_result"
    }
   ],
   "source": [
    "texts[:2]"
   ]
  },
  {
   "cell_type": "code",
   "execution_count": 9,
   "metadata": {
    "collapsed": true
   },
   "outputs": [],
   "source": [
    "dictionary = corpora.Dictionary(texts)"
   ]
  },
  {
   "cell_type": "code",
   "execution_count": 11,
   "metadata": {
    "collapsed": false
   },
   "outputs": [],
   "source": [
    "count = 0\n",
    "for i in dictionary.iteritems():\n",
    "    count +=1"
   ]
  },
  {
   "cell_type": "code",
   "execution_count": 12,
   "metadata": {
    "collapsed": false
   },
   "outputs": [
    {
     "name": "stdout",
     "output_type": "stream",
     "text": [
      "1018\n"
     ]
    }
   ],
   "source": [
    "print count"
   ]
  },
  {
   "cell_type": "code",
   "execution_count": 16,
   "metadata": {
    "collapsed": false
   },
   "outputs": [
    {
     "name": "stdout",
     "output_type": "stream",
     "text": [
      "{u'squid,': 970, u'monterey': 487, u'serranos,': 196, u'chile': 93, u'jonagold': 412, u'(1/4': 548, u'ale': 468, u'hot': 784, u'yellow': 199, u'baby': 948, u'freeze-dried': 401, u'raspberries,': 471, u'asian': 117, u'(if': 658, u'parmesan': 255, u'inch)': 605, u'barbecue': 932, u'mascarpone': 434, u'paprika,': 712, u'milk': 407, u'quartered': 730, u'blueberries': 638, u'/': 507, u'peanut': 127, u'microwave': 907, u'sparkling': 474, u'unflavored': 467, u'pancetta': 272, u'oz': 617, u'dairy': 945, u'teaspoon': 87, u'dressing': 904, u'whisky': 394, u'brown': 145, u'quinoa': 819, u'doz': 850, u'yeast': 923, u'sage': 837, u'thawed': 470, u'fat': 578, u'tacos': 860, u'powder,': 428, u'farro': 225, u'butterolive': 616, u'jack': 604, u'softened': 533, u'ladyfingers': 433, u'ounces,': 286, u'(mine': 924, u'ounces)': 636, u'room': 846, u'cooks': 961, u'tortillas': 97, u'baking': 290, u'nectar': 535, u'asparagus': 335, u'pinch': 165, u'sticks)': 529, u'pecorino': 278, u'large': 238, u'slices,': 952, u'all-purpose': 176, u'plain': 609, u'small': 10, u'uncooked': 635, u'sundried': 893, u'(garbanzo': 245, u'pork': 366, u'heinz': 367, u'heaped': 383, u'oz.': 577, u'tea': 882, u'squash,': 836, u'almond': 264, u'bacon': 441, u'pepper': 33, u'squash)': 38, u'grease': 439, u'dried': 75, u'picked': 203, u'almonds,': 330, u'wheat': 204, u'spaghetti': 284, u'port': 664, u'soured': 339, u'mussels,': 986, u'radishes,': 15, u'peel': 561, u'tarragon': 306, u'milk)': 780, u'+': 537, u'beaten': 324, u'crust': 185, u'cucumber,': 736, u'mix': 897, u'chickpeas': 211, u'(in': 1005, u'135g/4oz': 618, u'new': 65, u'umbrian': 525, u'muscovado': 680, u'-inch': 410, u'higher-welfare': 371, u'peeled': 146, u'debearded': 983, u'french': 903, u'water': 183, u'raspberries': 265, u'topping/filling:': 848, u'making': 726, u'active': 931, u'100': 676, u'cilantro,': 500, u'mozzarella': 872, u'(less': 705, u'hass': 803, u'dry': 449, u'vinegar': 47, u'stalks': 788, u'adobo': 756, u'leaves': 50, u'(see': 327, u'light,': 704, u'lasagne': 870, u'chopped,': 100, u'chopped)': 170, u'cinnamon': 289, u'(for': 481, u'popcorn': 443, u'casings)': 1002, u'icing:': 299, u'sausages,': 980, u'cheese,': 497, u'chowder': 718, u'apple': 465, u'canola': 292, u'extra': 502, u'lemon,': 62, u'liqueur': 422, u'beer,': 760, u'sliced': 63, u'ask': 988, u'chunks': 661, u'stand': 748, u'total': 711, u'apf': 332, u'lime': 123, u'celery': 509, u'use': 488, u'&': 536, u'queso': 915, u'whipping': 436, u'bottled': 724, u'temperature)': 1017, u'pearl': 839, u'(de': 280, u'cashews': 785, u'6': 105, u'&nbsp;': 429, u'garnish': 85, u'pepperidge': 844, u'note,': 967, u'1/4': 88, u'1/3': 35, u'1/2': 89, u'potatoes,': 59, u'micro': 523, u'meat,': 543, u'scallions': 45, u'peppers': 634, u'marbled': 954, u'warm': 928, u'pecan': 415, u'stick': 690, u'olive': 43, u'pouch': 353, u'bourbon': 936, u'(non-alcoholic)': 479, u'red,': 46, u'240ml': 804, u'anything': 586, u'salad': 450, u'bits': 445, u'oil,': 236, u'ml': 385, u'tortila': 801, u'breakfast': 1015, u'tbsp': 348, u'slices': 562, u'1&frac12;': 621, u'sour': 553, u'scallions,': 128, u'thin': 107, u'570ml/1': 391, u'drops': 659, u'ribs': 722, u'croutons': 713, u'1/2)': 715, u'ingredients:': 956, u'vodka': 879, u'reserved': 719, u'salted': 197, u'links': 1000, u'pints': 825, u'cod),': 70, u'teaspoons': 5, u'pieces': 6, u'honey': 387, u'yogurt,': 201, u'carrot': 8, u'something': 761, u'cotija': 498, u'gallon': 921, u'55%': 663, u'etc.)': 489, u'onions': 572, u'instructions)': 890, u'flat-leaf': 28, u'stemmed': 78, u'(chevre),': 892, u'bread,': 699, u'drained': 248, u'pure': 527, u'divided': 308, u'rye': 953, u'nuts': 19, u'pine': 21, u'tarragon,': 508, u'1': 14, u'till': 955, u'buns': 737, u'seeds': 361, u'feta': 213, u'plus': 102, u'firmly': 1010, u'person)': 856, u'goat': 513, u'applewood': 774, u'stock': 349, u'salt,': 32, u'onion,': 74, u'petite': 752, u'rehydrate),': 220, u'diced,': 740, u'flour)': 334, u'flour,': 296, u'450g/1lb': 389, u'gelatin': 472, u'taco': 896, u'salsa': 94, u'55g': 607, u'fl': 677, u'garlic,': 382, u'tomato': 96, u'fishmonger,': 989, u'chilled': 193, u'natural': 164, u'brown,': 234, u'light': 759, u'serrano': 168, u'greek': 640, u'85g/3oz': 390, u'mango': 360, u'green': 208, u'tahini': 822, u'egg': 435, u'wine': 57, u'serving': 800, u'mexican': 68, u\"don't\": 768, u'below)': 869, u'low-sodium': 338, u'cook': 772, u'16': 576, u'dough': 894, u'frying': 814, u'caster': 611, u'butternut': 787, u'bunch': 352, u'300g': 344, u'(.25': 874, u'10.5': 665, u'sodium': 778, u'torn': 18, u'avocado': 590, u',': 277, u'cremini': 550, u'firm': 849, u'1/2-inch': 520, u'yellow,': 7, u'boneless': 137, u'400': 379, u'orange': 380, u'peanuts': 141, u'sauce': 143, u'tsp': 354, u'coffee': 420, u'pancetta,': 963, u'freshly': 25, u'flour': 187, u'bunch)': 631, u'oz.)': 755, u'vegetable': 214, u'mahi': 92, u'rice,': 41, u'prunes': 300, u'half': 159, u'one': 547, u'ketchup': 384, u'madras': 777, u'coriander': 395, u'cocoa': 427, u'cucumber': 362, u'fine)': 233, u'meat': 845, u'thyme': 48, u'potatoes': 484, u'cider': 469, u'1/2-ounce': 251, u'trimmed': 336, u'good': 984, u'pan': 671, u'&frac12;': 626, u'wholemeal': 738, u'400ml': 404, u'pint': 393, u'rosemary': 797, u'sprouts,': 56, u'fraiche': 526, u'heavy': 418, u'el': 741, u'florets': 697, u'square': 421, u'allspice': 291, u'garnish:': 321, u'tomatoes,': 2, u'fish': 71, u'stalks,': 754, u'used': 643, u'cucumbers,': 157, u'thyme,': 378, u'garnish)': 694, u'sifted': 301, u'raw': 972, u'extract': 303, u'clove,': 259, u'(1/8': 717, u'leave': 566, u'clams,': 727, u'100g': 279, u'(room': 1016, u'oil-cured': 962, u'washed': 325, u'recipe)': 861, u'potato,': 701, u'granulated': 532, u'barley': 212, u'7': 392, u'lb.)': 773, u'each),': 969, u'zucchini,': 891, u'red': 31, u'cloves': 271, u'eggs,': 319, u'cheddar,': 490, u'slivered': 147, u'little': 703, u'(1/4-inch-thick)': 965, u'walnuts': 657, u'quick': 593, u'(two': 646, u'california': 579, u'puy': 517, u'rosemary,': 947, u'suggested)': 884, u'sheet': 834, u'can)': 757, u'pus': 1009, u'chilli': 733, u'lettuce)': 852, u'organic': 368, u'g': 369, u'drizzling': 925, u'shells': 977, u'(10': 453, u'sprig': 946, u'soda': 297, u'black,': 243, u'(12': 419, u'chopped': 0, u'cheese': 249, u'serve:': 506, u'beer': 935, u'455': 790, u'serving)': 482, u'lettuce': 902, u'pizza': 895, u'(hendricks': 880, u'(16': 900, u'unpopped': 444, u'thick': 416, u'cups': 11, u'quality': 1004, u'cabbage': 864, u'maple': 619, u'arugula,': 503, u'notes)': 318, u'heads': 728, u'temperature': 847, u'spinach': 263, u'approximately': 979, u'canned),': 688, u'needed': 552, u'small/med': 210, u'ounce': 709, u'scant': 670, u'beans,': 461, u'white': 27, u'syrup': 293, u'banana': 269, u'low': 580, u'cup)': 573, u'paso': 744, u'thaw': 766, u'asparagus,': 585, u'pearled': 224, u'semisweet': 432, u'vermicelli': 152, u'lavender': 883, u'gummi': 473, u'masala': 691, u'thai': 161, u'coriander,': 376, u'nuts,': 1011, u'10': 231, u'leeks,': 333, u'12': 163, u'15': 256, u'oats': 388, u'(canned': 239, u'double': 182, u'quinoa,': 1012, u'handfuls': 600, u'half-fat': 341, u'stalk': 402, u'apples': 188, u'1+': 331, u'naturally': 775, u'1-': 287, u'chips/chunks': 681, u'1.5': 660, u'coconut': 396, u'kaffir': 400, u'dollop': 242, u'spears,': 337, u'lightly': 69, u'membranes': 496, u'cooked*': 563, u'shallot,': 3, u'skinless': 112, u'ginger': 475, u'seville': 808, u'dash': 644, u'juice': 115, u'dufour': 843, u'pastry': 186, u'20g': 403, u'cleaned': 974, u'tandoori': 692, u'aged': 698, u'leafy': 12, u'soup:': 695, u'130ml/4fl': 614, u'clove': 446, u'coconutmilk': 261, u'angle': 976, u'(store': 906, u'depending': 854, u'skinless,': 313, u'-': 178, u'jalapeno,': 494, u'shallot': 721, u'peas,': 23, u'herbes': 312, u'best': 408, u'brand': 769, u'seedless': 356, u'200': 672, u'topping': 702, u'bags': 1014, u'toppings:': 914, u'taste)': 209, u'serve': 735, u'eggs': 276, u'english': 1003, u'fresco': 917, u'sausage': 998, u'mashed': 515, u'sprinkling': 930, u'carrot,': 516, u'shallots': 398, u'cloves,': 124, u'necessary)': 654, u'medal': 534, u'lb.': 541, u'thick-cut': 958, u'mustard,': 696, u'5-6': 707, u'chives/': 320, u'seasoning,': 451, u'(from': 237, u'1140ml/2': 827, u'thinly': 58, u'280g': 811, u'pineapple': 448, u'litre': 975, u'salt': 66, u'littleneck': 731, u'stones': 823, u'tomato,': 462, u'cooking': 588, u'200ml/7fl': 831, u'beans),': 247, u'gold': 528, u'per': 859, u'&#8539;-inch': 940, u'recipe': 179, u'1/4-inch': 113, u'lengthwise': 483, u'1-inch),': 706, u'fennel': 377, u'crme': 795, u'yolks': 431, u'agave': 539, u'chicken': 120, u'fine': 205, u'ground': 13, u'dice': 505, u'breadcrumbs': 734, u'enough': 918, u'ball': 867, u'sugar': 132, u'(such': 22, u'creme': 511, u'black': 64, u'(1.27': 459, u'(1.25': 898, u'red-pepper': 968, u'8': 84, u'chipotle': 216, u'rice': 142, u'plump': 285, u'flavored': 437, u'de': 309, u'3/4': 42, u'julienne': 160, u'2': 24, u'jalapeo,': 95, u'du': 518, u'chips': 629, u'(an': 999, u'onions,': 767, u'greens': 452, u'kale,': 743, u'dijon': 521, u'cumin': 98, u'sugar),': 642, u'bay': 522, u'150ml': 347, u'stuff': 747, u'nutmeg': 302, u'paella': 992, u'x': 381, u'tortilla': 358, u'aubergines': 868, u'scrubbed': 996, u'shoots,': 598, u'&frac14;': 620, u'rigatoni,': 789, u'ounces': 126, u'vine': 310, u'packet': 457, u'fage)': 645, u'powder': 103, u'sea': 230, u'tb.': 581, u'noodles': 121, u'cold': 729, u'packed': 77, u'cornstarch': 877, u'ground)': 560, u'halved': 60, u'rings': 745, u'halves': 458, u'3': 134, u'ginger,': 135, u'deseeded': 791, u'envelopes': 476, u'moons': 139, u'yogurt': 649, u'frache,': 794, u'containers)': 651, u'bought': 912, u'24': 960, u'seeded': 221, u'bulgur': 222, u'ancho': 90, u'toffee': 1006, u'clean': 993, u'handful': 151, u'generous': 776, u'smashed': 821, u'free-range': 826, u'rinsed': 240, u'lb.),': 714, u'20': 824, u'packages': 430, u'optional': 364, u'dill': 557, u'suggested': 162, u'dates': 656, u'cubes': 544, u'instant': 922, u'sliced,': 172, u'pits': 655, u'liters': 466, u'equal': 200, u'kosher': 44, u'grain': 215, u'crusts)': 929, u'puff': 842, u'pureed': 693, u'whole': 190, u'(optional,': 851, u'titos)': 881, u'pounds),': 486, u'prepared': 901, u'(optional)': 37, u'6)': 109, u'(good': 855, u'greens,': 4, u'lbs': 558, u'iberico': 985, u'1/8': 538, u'rotisserie': 833, u'oregano': 76, u'(14.5': 905, u'springs': 949, u'pod': 832, u'smith': 189, u'kernels': 438, u'olives': 913, u'beef': 340, u'equivalent': 817, u'balsamic': 373, u'dusting': 423, u'skin': 971, u'three': 130, u'basmati': 9, u'removed,': 495, u'buttermilk': 298, u'apples,': 413, u'pickles,': 568, u'seasoned': 442, u'coarse': 254, u'want),': 570, u'basil': 155, u'belly,': 982, u'worcestershire': 314, u'artisan': 708, u'garam': 684, u'dijon,': 556, u'(fresh': 260, u'assorted': 36, u'(to': 149, u'fillets': 374, u'cake:': 295, u'squash': 782, u'al': 622, u'(torn': 156, u'cooked,': 594, u'combo),': 226, u'stems': 554, u'peppers,': 606, u'chili': 217, u'160': 519, u'chickens': 964, u'chips,': 357, u'chips/': 678, u'4-5': 411, u'pepper,': 235, u'frozen': 464, u'50g': 275, u'vanilla': 294, u'canadian': 939, u'batch': 687, u'sesame': 169, u'melted': 615, u'pressed': 250, u'(about': 175, u'wild': 350, u'cracked': 950, u'vegetarian': 343, u'pack': 405, u'carrots,': 104, u'pound': 67, u'ripe': 802, u'favorite,': 564, u'broth': 198, u'trees,': 589, u'limes,': 72, u'breadcrumbs),': 1001, u'thickly': 990, u'tiny': 591, u'rinsed,': 253, u'cans': 316, u'maldon': 281, u'1-1/4': 716, u'1-1/2': 304, u'candied': 813, u'medjool': 652, u')': 632, u'mint': 122, u'80g': 666, u'mushrooms,': 549, u'coarsely': 746, u'gorgonzola,': 1013, u'breast': 463, u'sprouts': 763, u'parts': 232, u'big': 587, u'9': 167, u'crumbled': 524, u'fill': 920, u'toasted': 30, u'tomatoes': 218, u'poblano': 630, u'fenugreek': 682, u'oil': 34, u'slightly': 959, u'thyme)': 798, u'swordfish': 857, u'can,': 916, u'cake': 910, u'ounce)': 424, u'(undrained)': 951, u'garlic': 158, u'purpose': 625, u'chorizo': 994, u'parsley,': 793, u'brussels': 764, u'1-inch': 559, u'broccoli': 592, u'curd': 908, u'butter': 138, u'celtic': 653, u'homemade)': 911, u'center': 835, u'makes': 933, u'coconut,': 270, u'well': 317, u'roughly': 114, u'leaves,': 99, u'bacon,': 567, u'breeze': 266, u'flakes': 546, u'bottle': 762, u'roma': 957, u'wedges': 173, u'smoked': 375, u'cannellini': 944, u'1cm': 981, u'left': 273, u'summer': 1, u'lb': 853, u'cashew': 685, u'(optional': 683, u'cecco': 274, u'celery,': 542, u'sprigs,': 111, u'cheddar': 440, u'farm),': 838, u'quarters': 73, u'crust,': 943, u'(i': 647, u'40': 667, u'roasted': 118, u'iceberg': 863, u'alternative': 351, u'banana,': 1007, u'reduced': 786, u'cilantro': 79, u'cut': 80, u'sunflower': 806, u'cup': 16, u'225g': 608, u'cherry': 307, u'jarred': 978, u'bell': 491, u'cayenne': 129, u'wright': 770, u'cherries': 668, u'serve)': 136, u'4': 82, u'sweet': 372, u'plenty': 886, u'seasoning': 602, u'bread': 1008, u'real': 575, u'(8': 601, u'water,': 876, u'(3': 530, u'couple': 323, u'(1': 425, u'(6': 941, u'crushed': 153, u'dressing:': 818, u'dark': 675, u'clam': 723, u'saffron': 973, u'28-ounce': 227, u'crisp': 758, u'bit': 228, u'wings': 815, u'semi-sweet': 628, u'(your': 571, u'like': 639, u'onion': 49, u'pounds': 61, u'&#8531;': 779, u'fajita': 455, u'candy': 478, u'greasing': 679, u'tablespoons': 26, u'backbones': 966, u'(or': 241, u'thighs': 171, u'minced': 174, u'jicama,': 540, u'sultanas': 612, u'cooled': 53, u'italian': 257, u'old': 742, u'mexican-style': 460, u'loosely': 781, u'bite-size': 39, u'yolk': 942, u'3.5': 662, u'non-dairy': 783, u'bangers': 997, u'drizzle': 206, u'30g': 613, u'lentils': 207, u'and/or': 584, u'leaf': 504, u'jalapeno': 447, u'(may': 493, u'purple': 796, u'store-bought': 81, u'prawns,': 995, u'lean': 899, u'chicken,': 840, u'ice': 195, u'rib,': 512, u'tablespoon': 150, u'good)': 282, u'yukon': 574, u'crema,': 86, u'pea': 599, u'350g': 283, u'porridge': 386, u'sauce,': 732, u'diced': 194, u'(opt):': 223, u'zest': 370, u'&#8532;': 878, u'300': 674, u'50g/2oz': 830, u'corn': 91, u'berries,': 637, u'broken': 809, u'stew': 545, u'pinches': 329, u'pasta': 595, u'leftover': 596, u'2/3': 229, u'paste': 406, u'almondmilk': 268, u'125g': 866, u'stone': 565, u'_____': 305, u'package': 191, u'soft': 750, u'plum': 492, u'turbinado': 641, u'favorite': 166, u'boneless,': 927, u'&frac34;': 624, u'total,': 991, u'flaky': 101, u'cabbage,': 328, u'toppings': 202, u'chiles,': 144, u'cranberry': 477, u'mixed': 54, u'curry': 399, u'clams': 725, u'two': 926, u'sheets': 871, u'unsalted': 106, u'halibut)*': 858, u'butter;': 531, u'parsley': 20, u'mushrooms': 346, u'cumin,': 689, u'finely': 116, u'thinned': 244, u'soy': 119, u'butter,': 192, u'jack,': 499, u'skillet': 919, u'half-and-half': 501, u'snakes': 480, u'lemons,': 889, u'additional': 125, u'more,': 887, u'serving,': 359, u'(11': 454, u'vegetables': 17, u'(14': 753, u'(15': 456, u'145': 673, u'virgin': 510, u'grated': 133, u'homemade': 83, u'powdered': 627, u'gin': 888, u'avocados': 799, u'chunk': 110, u'shallots,': 219, u'head': 326, u'medium': 154, u'farm': 938, u'tinned': 987, u'quantity': 873, u'raisins': 610, u'weight': 288, u'(packed)': 252, u'heat': 862, u'strawberries': 909, u'cherries,': 829, u'beans': 633, u'granny': 184, u'cottage': 582, u'good-tasting': 710, u'225': 597, u'removed': 363, u'made': 885, u'avocado,': 751, u'sprigs': 720, u'apricot': 934, u'garnish),': 686, u'deep': 816, u'paprika': 345, u'decorate': 810, u'garbanzo': 820, u'*vanilla': 875, u'unsweetened': 267, u'150': 365, u'inch': 140, u'taste': 108, u'peeled,': 177, u'pie': 180, u'strips': 765, u'quart)': 551, u'breast,': 603, u'potatoes)': 771, u'penne': 792, u'(preferably': 650, u'225ml': 812, u'15-': 258, u'tortillas)': 865, u'cream': 355, u'extra-virgin': 51, u'lemon': 246, u'200g': 805, u'vegetables,': 148, u'one-and-a-half': 131, u'5': 669, u'mayonnaise': 485, u'lemongrass': 409, u'ribbons': 29, u'tart': 417, u'cups)': 700, u'mustard': 514, u'shredded': 322, u'breasts': 311, u'25g': 807, u'herbs': 40, u'brandy': 828, u'rolling': 623, u\"'n\": 749, u'chocolate': 426, u'provence': 315, u'tsp.': 583, u'juiced': 648, u'stick)': 555, u'jones': 937, u'frozen)': 262, u'250g': 342, u'1/2\"': 841, u'3-4': 397, u'arrowroot': 414, u'cored': 181, u'cooked': 52, u'(you': 569, u'fresh': 55, u'400g': 739}\n"
     ]
    }
   ],
   "source": [
    " print(dictionary.token2id)"
   ]
  },
  {
   "cell_type": "code",
   "execution_count": 27,
   "metadata": {
    "collapsed": true
   },
   "outputs": [],
   "source": [
    "corpus = [dictionary.doc2bow(text) for text in texts]"
   ]
  },
  {
   "cell_type": "code",
   "execution_count": 18,
   "metadata": {
    "collapsed": false
   },
   "outputs": [
    {
     "data": {
      "text/plain": [
       "[[(0, 3),\n",
       "  (1, 1),\n",
       "  (2, 1),\n",
       "  (3, 1),\n",
       "  (4, 1),\n",
       "  (5, 1),\n",
       "  (6, 1),\n",
       "  (7, 1),\n",
       "  (8, 1),\n",
       "  (9, 1),\n",
       "  (10, 1),\n",
       "  (11, 2),\n",
       "  (12, 1),\n",
       "  (13, 1),\n",
       "  (14, 1),\n",
       "  (15, 1),\n",
       "  (16, 3),\n",
       "  (17, 1),\n",
       "  (18, 1),\n",
       "  (19, 1),\n",
       "  (20, 1),\n",
       "  (21, 1),\n",
       "  (22, 1),\n",
       "  (23, 1),\n",
       "  (24, 6),\n",
       "  (25, 1),\n",
       "  (26, 3),\n",
       "  (27, 1),\n",
       "  (28, 1),\n",
       "  (29, 1),\n",
       "  (30, 1),\n",
       "  (31, 1),\n",
       "  (32, 1),\n",
       "  (33, 1),\n",
       "  (34, 1),\n",
       "  (35, 2),\n",
       "  (36, 1),\n",
       "  (37, 1),\n",
       "  (38, 1),\n",
       "  (39, 1),\n",
       "  (40, 1),\n",
       "  (41, 1),\n",
       "  (42, 1),\n",
       "  (43, 1),\n",
       "  (44, 1),\n",
       "  (45, 1),\n",
       "  (46, 1),\n",
       "  (47, 1),\n",
       "  (48, 1),\n",
       "  (49, 1),\n",
       "  (50, 1),\n",
       "  (51, 1),\n",
       "  (52, 1),\n",
       "  (53, 1),\n",
       "  (54, 1),\n",
       "  (55, 1),\n",
       "  (56, 1),\n",
       "  (57, 1)],\n",
       " [(14, 1),\n",
       "  (24, 3),\n",
       "  (26, 2),\n",
       "  (33, 1),\n",
       "  (34, 1),\n",
       "  (43, 1),\n",
       "  (44, 1),\n",
       "  (58, 1),\n",
       "  (59, 1),\n",
       "  (60, 1),\n",
       "  (61, 1),\n",
       "  (62, 1),\n",
       "  (63, 1),\n",
       "  (64, 1),\n",
       "  (65, 1),\n",
       "  (66, 1)]]"
      ]
     },
     "execution_count": 18,
     "metadata": {},
     "output_type": "execute_result"
    }
   ],
   "source": [
    "corpus[:2]"
   ]
  },
  {
   "cell_type": "code",
   "execution_count": 19,
   "metadata": {
    "collapsed": false
   },
   "outputs": [],
   "source": [
    "tfidf = models.TfidfModel(corpus)\n",
    "index = similarities.Similarity(tfidf[corpus]) ## prepare for similarity queries"
   ]
  },
  {
   "cell_type": "markdown",
   "metadata": {},
   "source": [
    "### Get a Restaurant to Search "
   ]
  },
  {
   "cell_type": "code",
   "execution_count": 15,
   "metadata": {
    "collapsed": true
   },
   "outputs": [],
   "source": [
    "cursor_test = db.restaurants.find({}, {'name':1, '_id' :0}).limit(10)"
   ]
  },
  {
   "cell_type": "code",
   "execution_count": 16,
   "metadata": {
    "collapsed": false
   },
   "outputs": [
    {
     "name": "stdout",
     "output_type": "stream",
     "text": [
      "{u'name': u'Hogwash'}\n",
      "{u'name': u'Fog Harbor Fish House'}\n",
      "{u'name': u'Marlowe'}\n",
      "{u'name': u'Gary Danko'}\n",
      "{u'name': u'SO'}\n",
      "{u'name': u'Chez Maman'}\n",
      "{u'name': u'HRD'}\n",
      "{u'name': u'The Italian Homemade Company'}\n",
      "{u'name': u'Lord George'}\n",
      "{u'name': u'Causwells'}\n"
     ]
    }
   ],
   "source": [
    "for i in cursor_test:\n",
    "    print i"
   ]
  },
  {
   "cell_type": "code",
   "execution_count": 20,
   "metadata": {
    "collapsed": true
   },
   "outputs": [],
   "source": [
    "r_cursor = db.restaurants.find_one({'name' : 'Nopa'})"
   ]
  },
  {
   "cell_type": "code",
   "execution_count": 21,
   "metadata": {
    "collapsed": false
   },
   "outputs": [],
   "source": [
    "menu = r_cursor['menu']"
   ]
  },
  {
   "cell_type": "code",
   "execution_count": 22,
   "metadata": {
    "collapsed": false
   },
   "outputs": [],
   "source": [
    "menu_list = []\n",
    "for i in zip(menu['items'], menu['descriptions']):\n",
    "    menu_list.append(': '.join(i))"
   ]
  },
  {
   "cell_type": "code",
   "execution_count": 23,
   "metadata": {
    "collapsed": false
   },
   "outputs": [],
   "source": [
    "menu_string = ' '.join(menu_list)"
   ]
  },
  {
   "cell_type": "code",
   "execution_count": 24,
   "metadata": {
    "collapsed": false
   },
   "outputs": [
    {
     "data": {
      "text/plain": [
       "u'Warm Marinated Olives: no description available Chicken Soup: Farro, Spinach and Sage Grilled Calamari: Cauliflower, Olives, Fris\\xe9e and A\\xcfoli Warm Goat Cheese: Grapes, Persimmon and Crostini Manila Clams: Toasted Fregola, Peppers, Lemon and Parsley Olive Oil Poached Albacore: Marinated Cucumbers, Romesco and Beets Flatbread of House smoked Bacon: Potatoes, Cheddar and Horseradish Little Gem Lettuces: Warren Pear, Blue Cheese, Hazelnuts and Medjool Dates Tasso Spiced Ham: Butternut Squash, Sherry Onions, Almonds, Balsamic and Poached Egg Avocado Toast: Capers, Pickled Jalape\\xf1o, Arugula and Shaved Pantaleo Wood Baked Butter Beans: Feta, Oregano Pesto and Breadcrumbs Duck Liver Mousse: Confit Gizzard, Pluots and Grilled Bread Crispy Mushrooms and Jimmy Nardello Pepper Sauce: no description available Moroccan Vegetable Tagine: Toasted Almonds and Lemon Yogurt Country Pork Chop: Arrowhead Cabbage, Potatoes, Apple and Mustard Grilled Leg of Lamb: Toasted Quinoa, Delicata Squash, Feta and Tomatillo Salsa Rotisserie Herbed Chicken: Orange Glazed Sweet Potatoes, Pomegranate and Walnuts King Salmon: Flageolet Beans, Maitake Mushrooms, Broccoli di Ciccio and Salsa Verde Housemade Pappardelle: Spicy Fennel Sausage, Shelling Beans and Pecorino Wood Grilled Hamburger: Pickled Onions and French Fries Roasted Autumn Squash: Herbed Yogurt and Pickled Beets Grilled Broccoli: Lemon, Anchovy and Breadcrumbs Sauted Greens and Spiced Chickpeas: no description available French Fries and Chile Lime Aoli: no description available'"
      ]
     },
     "execution_count": 24,
     "metadata": {},
     "output_type": "execute_result"
    }
   ],
   "source": [
    "menu_string"
   ]
  },
  {
   "cell_type": "code",
   "execution_count": 25,
   "metadata": {
    "collapsed": false
   },
   "outputs": [],
   "source": [
    "menu_tokens = [word for word in menu_string.lower().split() if word not in stoplist]  #add description,  available to stopwords?\n",
    "menu_vector = dictionary.doc2bow(menu_tokens)"
   ]
  },
  {
   "cell_type": "code",
   "execution_count": null,
   "metadata": {
    "collapsed": false
   },
   "outputs": [],
   "source": [
    "sims = index[tfidf[menu_vector]]  ## kills kernel :(  Try running from terminal?\n",
    "## will argmax to get position and refer back to recipes df to get title."
   ]
  },
  {
   "cell_type": "code",
   "execution_count": 19,
   "metadata": {
    "collapsed": false
   },
   "outputs": [
    {
     "data": {
      "text/plain": [
       "set"
      ]
     },
     "execution_count": 19,
     "metadata": {},
     "output_type": "execute_result"
    }
   ],
   "source": [
    "type(stoplist)"
   ]
  },
  {
   "cell_type": "code",
   "execution_count": 20,
   "metadata": {
    "collapsed": true
   },
   "outputs": [],
   "source": [
    "stoplist.add('description')"
   ]
  },
  {
   "cell_type": "code",
   "execution_count": 24,
   "metadata": {
    "collapsed": true
   },
   "outputs": [],
   "source": [
    "stoplist.update(['description', 'available'])"
   ]
  },
  {
   "cell_type": "code",
   "execution_count": 25,
   "metadata": {
    "collapsed": false
   },
   "outputs": [
    {
     "data": {
      "text/plain": [
       "{u'a',\n",
       " u'about',\n",
       " u'above',\n",
       " u'after',\n",
       " u'again',\n",
       " u'against',\n",
       " u'ain',\n",
       " u'all',\n",
       " u'am',\n",
       " u'an',\n",
       " u'and',\n",
       " u'any',\n",
       " u'are',\n",
       " u'aren',\n",
       " u'as',\n",
       " u'at',\n",
       " 'available',\n",
       " u'be',\n",
       " u'because',\n",
       " u'been',\n",
       " u'before',\n",
       " u'being',\n",
       " u'below',\n",
       " u'between',\n",
       " u'both',\n",
       " u'but',\n",
       " u'by',\n",
       " u'can',\n",
       " u'couldn',\n",
       " u'd',\n",
       " 'description',\n",
       " u'did',\n",
       " u'didn',\n",
       " u'do',\n",
       " u'does',\n",
       " u'doesn',\n",
       " u'doing',\n",
       " u'don',\n",
       " u'down',\n",
       " u'during',\n",
       " u'each',\n",
       " u'few',\n",
       " u'for',\n",
       " u'from',\n",
       " u'further',\n",
       " u'had',\n",
       " u'hadn',\n",
       " u'has',\n",
       " u'hasn',\n",
       " u'have',\n",
       " u'haven',\n",
       " u'having',\n",
       " u'he',\n",
       " u'her',\n",
       " u'here',\n",
       " u'hers',\n",
       " u'herself',\n",
       " u'him',\n",
       " u'himself',\n",
       " u'his',\n",
       " u'how',\n",
       " u'i',\n",
       " u'if',\n",
       " u'in',\n",
       " u'into',\n",
       " u'is',\n",
       " u'isn',\n",
       " u'it',\n",
       " u'its',\n",
       " u'itself',\n",
       " u'just',\n",
       " u'll',\n",
       " u'm',\n",
       " u'ma',\n",
       " u'me',\n",
       " u'mightn',\n",
       " u'more',\n",
       " u'most',\n",
       " u'mustn',\n",
       " u'my',\n",
       " u'myself',\n",
       " u'needn',\n",
       " u'no',\n",
       " u'nor',\n",
       " u'not',\n",
       " u'now',\n",
       " u'o',\n",
       " u'of',\n",
       " u'off',\n",
       " u'on',\n",
       " u'once',\n",
       " u'only',\n",
       " u'or',\n",
       " u'other',\n",
       " u'our',\n",
       " u'ours',\n",
       " u'ourselves',\n",
       " u'out',\n",
       " u'over',\n",
       " u'own',\n",
       " u're',\n",
       " u's',\n",
       " u'same',\n",
       " u'shan',\n",
       " u'she',\n",
       " u'should',\n",
       " u'shouldn',\n",
       " u'so',\n",
       " u'some',\n",
       " u'such',\n",
       " u't',\n",
       " u'than',\n",
       " u'that',\n",
       " u'the',\n",
       " u'their',\n",
       " u'theirs',\n",
       " u'them',\n",
       " u'themselves',\n",
       " u'then',\n",
       " u'there',\n",
       " u'these',\n",
       " u'they',\n",
       " u'this',\n",
       " u'those',\n",
       " u'through',\n",
       " u'to',\n",
       " u'too',\n",
       " u'under',\n",
       " u'until',\n",
       " u'up',\n",
       " u've',\n",
       " u'very',\n",
       " u'was',\n",
       " u'wasn',\n",
       " u'we',\n",
       " u'were',\n",
       " u'weren',\n",
       " u'what',\n",
       " u'when',\n",
       " u'where',\n",
       " u'which',\n",
       " u'while',\n",
       " u'who',\n",
       " u'whom',\n",
       " u'why',\n",
       " u'will',\n",
       " u'with',\n",
       " u'won',\n",
       " u'wouldn',\n",
       " u'y',\n",
       " u'you',\n",
       " u'your',\n",
       " u'yours',\n",
       " u'yourself',\n",
       " u'yourselves'}"
      ]
     },
     "execution_count": 25,
     "metadata": {},
     "output_type": "execute_result"
    }
   ],
   "source": [
    "stoplist"
   ]
  },
  {
   "cell_type": "markdown",
   "metadata": {},
   "source": [
    "## Using PreTrained Word2Vec"
   ]
  },
  {
   "cell_type": "markdown",
   "metadata": {},
   "source": [
    "Pretrained Word2vec model from GloVe: Jeffrey Pennington, Richard Socher, and Christopher D. Manning. 2014. GloVe: Global Vectors for Word Representation.\n",
    "OR try GoogleNews- trained vectors from Google https://code.google.com/archive/p/word2vec/"
   ]
  },
  {
   "cell_type": "code",
   "execution_count": null,
   "metadata": {
    "collapsed": false
   },
   "outputs": [],
   "source": [
    "## Load the model\n",
    "#model = models.Word2Vec.load_word2vec_format('models/glove.6B.50d.txt', binary=False)\n",
    "# fn = \"models/GoogleNews-vectors-negative300.bin.gz\" # pretrained on Google News\n",
    "# model = models.Word2Vec.load_word2vec_format(fn, binary= True) ## takes too long.."
   ]
  },
  {
   "cell_type": "code",
   "execution_count": null,
   "metadata": {
    "collapsed": true
   },
   "outputs": [],
   "source": [
    "## Convert words to vectors\n",
    "## For restaurants texts\n",
    "# menu_vector = model[word] # not by word but by doc?\n",
    "# ## For recipe texts\n",
    "# index = similarities.Similarity(model[corpus]) ## corpus or texts?\n"
   ]
  },
  {
   "cell_type": "code",
   "execution_count": null,
   "metadata": {
    "collapsed": true
   },
   "outputs": [],
   "source": [
    "## Find most similar \n",
    "# sims = index[model[menu_vector]] ## convert BOW to Tfidf\n",
    "# rec_indices = np.argsort(sims)[:-num:-1] # gets top 10 ## do I want to report similarity score too?\n",
    "# data.loc[rec_indices, 'title'], sims[rec_indices]"
   ]
  },
  {
   "cell_type": "code",
   "execution_count": null,
   "metadata": {
    "collapsed": true
   },
   "outputs": [],
   "source": [
    "# print model.most_similar('vacation')"
   ]
  },
  {
   "cell_type": "code",
   "execution_count": null,
   "metadata": {
    "collapsed": true
   },
   "outputs": [],
   "source": []
  }
 ],
 "metadata": {
  "kernelspec": {
   "display_name": "Python 2",
   "language": "python",
   "name": "python2"
  },
  "language_info": {
   "codemirror_mode": {
    "name": "ipython",
    "version": 2
   },
   "file_extension": ".py",
   "mimetype": "text/x-python",
   "name": "python",
   "nbconvert_exporter": "python",
   "pygments_lexer": "ipython2",
   "version": "2.7.11"
  }
 },
 "nbformat": 4,
 "nbformat_minor": 0
}
